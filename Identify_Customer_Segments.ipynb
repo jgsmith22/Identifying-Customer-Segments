{
 "cells": [
  {
   "cell_type": "markdown",
   "metadata": {},
   "source": [
    "# Project: Identify Customer Segments\n",
    "\n",
    "In this project, you will apply unsupervised learning techniques to identify segments of the population that form the core customer base for a mail-order sales company in Germany. These segments can then be used to direct marketing campaigns towards audiences that will have the highest expected rate of returns. The data that you will use has been provided by our partners at Bertelsmann Arvato Analytics, and represents a real-life data science task.\n"
   ]
  },
  {
   "cell_type": "code",
   "execution_count": 285,
   "metadata": {},
   "outputs": [],
   "source": [
    "# import libraries\n",
    "import numpy as np\n",
    "import pandas as pd\n",
    "import matplotlib.pyplot as plt\n",
    "import seaborn as sns\n",
    "import re\n",
    "import time\n",
    "from sklearn.compose import ColumnTransformer\n",
    "from sklearn.preprocessing import OneHotEncoder, StandardScaler\n",
    "from sklearn.impute import SimpleImputer\n",
    "from sklearn.decomposition import PCA\n",
    "from sklearn.cluster import KMeans\n",
    "\n",
    "# magic word for producing visualizations in notebook\n",
    "%matplotlib inline\n"
   ]
  },
  {
   "cell_type": "markdown",
   "metadata": {},
   "source": [
    "### Step 0: Load the Data\n",
    "\n"
   ]
  },
  {
   "cell_type": "code",
   "execution_count": 286,
   "metadata": {},
   "outputs": [],
   "source": [
    "# Load in the general demographics data.\n",
    "azdias = pd.read_csv('Udacity_AZDIAS_Subset.csv', sep=';')\n",
    "\n",
    "# Load in the feature summary file.\n",
    "feat_info = pd.read_csv('AZDIAS_Feature_Summary.csv', sep=';')"
   ]
  },
  {
   "cell_type": "code",
   "execution_count": 3,
   "metadata": {},
   "outputs": [
    {
     "data": {
      "text/html": [
       "<div>\n",
       "<style scoped>\n",
       "    .dataframe tbody tr th:only-of-type {\n",
       "        vertical-align: middle;\n",
       "    }\n",
       "\n",
       "    .dataframe tbody tr th {\n",
       "        vertical-align: top;\n",
       "    }\n",
       "\n",
       "    .dataframe thead th {\n",
       "        text-align: right;\n",
       "    }\n",
       "</style>\n",
       "<table border=\"1\" class=\"dataframe\">\n",
       "  <thead>\n",
       "    <tr style=\"text-align: right;\">\n",
       "      <th></th>\n",
       "      <th>AGER_TYP</th>\n",
       "      <th>ALTERSKATEGORIE_GROB</th>\n",
       "      <th>ANREDE_KZ</th>\n",
       "      <th>CJT_GESAMTTYP</th>\n",
       "      <th>FINANZ_MINIMALIST</th>\n",
       "      <th>FINANZ_SPARER</th>\n",
       "      <th>FINANZ_VORSORGER</th>\n",
       "      <th>FINANZ_ANLEGER</th>\n",
       "      <th>FINANZ_UNAUFFAELLIGER</th>\n",
       "      <th>FINANZ_HAUSBAUER</th>\n",
       "      <th>...</th>\n",
       "      <th>PLZ8_ANTG1</th>\n",
       "      <th>PLZ8_ANTG2</th>\n",
       "      <th>PLZ8_ANTG3</th>\n",
       "      <th>PLZ8_ANTG4</th>\n",
       "      <th>PLZ8_BAUMAX</th>\n",
       "      <th>PLZ8_HHZ</th>\n",
       "      <th>PLZ8_GBZ</th>\n",
       "      <th>ARBEIT</th>\n",
       "      <th>ORTSGR_KLS9</th>\n",
       "      <th>RELAT_AB</th>\n",
       "    </tr>\n",
       "  </thead>\n",
       "  <tbody>\n",
       "    <tr>\n",
       "      <th>0</th>\n",
       "      <td>-1</td>\n",
       "      <td>2</td>\n",
       "      <td>1</td>\n",
       "      <td>2.0</td>\n",
       "      <td>3</td>\n",
       "      <td>4</td>\n",
       "      <td>3</td>\n",
       "      <td>5</td>\n",
       "      <td>5</td>\n",
       "      <td>3</td>\n",
       "      <td>...</td>\n",
       "      <td>NaN</td>\n",
       "      <td>NaN</td>\n",
       "      <td>NaN</td>\n",
       "      <td>NaN</td>\n",
       "      <td>NaN</td>\n",
       "      <td>NaN</td>\n",
       "      <td>NaN</td>\n",
       "      <td>NaN</td>\n",
       "      <td>NaN</td>\n",
       "      <td>NaN</td>\n",
       "    </tr>\n",
       "    <tr>\n",
       "      <th>1</th>\n",
       "      <td>-1</td>\n",
       "      <td>1</td>\n",
       "      <td>2</td>\n",
       "      <td>5.0</td>\n",
       "      <td>1</td>\n",
       "      <td>5</td>\n",
       "      <td>2</td>\n",
       "      <td>5</td>\n",
       "      <td>4</td>\n",
       "      <td>5</td>\n",
       "      <td>...</td>\n",
       "      <td>2.0</td>\n",
       "      <td>3.0</td>\n",
       "      <td>2.0</td>\n",
       "      <td>1.0</td>\n",
       "      <td>1.0</td>\n",
       "      <td>5.0</td>\n",
       "      <td>4.0</td>\n",
       "      <td>3.0</td>\n",
       "      <td>5.0</td>\n",
       "      <td>4.0</td>\n",
       "    </tr>\n",
       "    <tr>\n",
       "      <th>2</th>\n",
       "      <td>-1</td>\n",
       "      <td>3</td>\n",
       "      <td>2</td>\n",
       "      <td>3.0</td>\n",
       "      <td>1</td>\n",
       "      <td>4</td>\n",
       "      <td>1</td>\n",
       "      <td>2</td>\n",
       "      <td>3</td>\n",
       "      <td>5</td>\n",
       "      <td>...</td>\n",
       "      <td>3.0</td>\n",
       "      <td>3.0</td>\n",
       "      <td>1.0</td>\n",
       "      <td>0.0</td>\n",
       "      <td>1.0</td>\n",
       "      <td>4.0</td>\n",
       "      <td>4.0</td>\n",
       "      <td>3.0</td>\n",
       "      <td>5.0</td>\n",
       "      <td>2.0</td>\n",
       "    </tr>\n",
       "  </tbody>\n",
       "</table>\n",
       "<p>3 rows × 85 columns</p>\n",
       "</div>"
      ],
      "text/plain": [
       "   AGER_TYP  ALTERSKATEGORIE_GROB  ANREDE_KZ  CJT_GESAMTTYP  \\\n",
       "0        -1                     2          1            2.0   \n",
       "1        -1                     1          2            5.0   \n",
       "2        -1                     3          2            3.0   \n",
       "\n",
       "   FINANZ_MINIMALIST  FINANZ_SPARER  FINANZ_VORSORGER  FINANZ_ANLEGER  \\\n",
       "0                  3              4                 3               5   \n",
       "1                  1              5                 2               5   \n",
       "2                  1              4                 1               2   \n",
       "\n",
       "   FINANZ_UNAUFFAELLIGER  FINANZ_HAUSBAUER  ...  PLZ8_ANTG1  PLZ8_ANTG2  \\\n",
       "0                      5                 3  ...         NaN         NaN   \n",
       "1                      4                 5  ...         2.0         3.0   \n",
       "2                      3                 5  ...         3.0         3.0   \n",
       "\n",
       "   PLZ8_ANTG3  PLZ8_ANTG4  PLZ8_BAUMAX  PLZ8_HHZ  PLZ8_GBZ  ARBEIT  \\\n",
       "0         NaN         NaN          NaN       NaN       NaN     NaN   \n",
       "1         2.0         1.0          1.0       5.0       4.0     3.0   \n",
       "2         1.0         0.0          1.0       4.0       4.0     3.0   \n",
       "\n",
       "   ORTSGR_KLS9  RELAT_AB  \n",
       "0          NaN       NaN  \n",
       "1          5.0       4.0  \n",
       "2          5.0       2.0  \n",
       "\n",
       "[3 rows x 85 columns]"
      ]
     },
     "execution_count": 3,
     "metadata": {},
     "output_type": "execute_result"
    }
   ],
   "source": [
    "azdias.head(3)"
   ]
  },
  {
   "cell_type": "code",
   "execution_count": 4,
   "metadata": {},
   "outputs": [
    {
     "data": {
      "text/plain": [
       "(891221, 85)"
      ]
     },
     "execution_count": 4,
     "metadata": {},
     "output_type": "execute_result"
    }
   ],
   "source": [
    "azdias.shape"
   ]
  },
  {
   "cell_type": "code",
   "execution_count": 5,
   "metadata": {
    "scrolled": true
   },
   "outputs": [
    {
     "name": "stdout",
     "output_type": "stream",
     "text": [
      "<class 'pandas.core.frame.DataFrame'>\n",
      "RangeIndex: 891221 entries, 0 to 891220\n",
      "Data columns (total 85 columns):\n",
      " #   Column                 Non-Null Count   Dtype  \n",
      "---  ------                 --------------   -----  \n",
      " 0   AGER_TYP               891221 non-null  int64  \n",
      " 1   ALTERSKATEGORIE_GROB   891221 non-null  int64  \n",
      " 2   ANREDE_KZ              891221 non-null  int64  \n",
      " 3   CJT_GESAMTTYP          886367 non-null  float64\n",
      " 4   FINANZ_MINIMALIST      891221 non-null  int64  \n",
      " 5   FINANZ_SPARER          891221 non-null  int64  \n",
      " 6   FINANZ_VORSORGER       891221 non-null  int64  \n",
      " 7   FINANZ_ANLEGER         891221 non-null  int64  \n",
      " 8   FINANZ_UNAUFFAELLIGER  891221 non-null  int64  \n",
      " 9   FINANZ_HAUSBAUER       891221 non-null  int64  \n",
      " 10  FINANZTYP              891221 non-null  int64  \n",
      " 11  GEBURTSJAHR            891221 non-null  int64  \n",
      " 12  GFK_URLAUBERTYP        886367 non-null  float64\n",
      " 13  GREEN_AVANTGARDE       891221 non-null  int64  \n",
      " 14  HEALTH_TYP             891221 non-null  int64  \n",
      " 15  LP_LEBENSPHASE_FEIN    886367 non-null  float64\n",
      " 16  LP_LEBENSPHASE_GROB    886367 non-null  float64\n",
      " 17  LP_FAMILIE_FEIN        886367 non-null  float64\n",
      " 18  LP_FAMILIE_GROB        886367 non-null  float64\n",
      " 19  LP_STATUS_FEIN         886367 non-null  float64\n",
      " 20  LP_STATUS_GROB         886367 non-null  float64\n",
      " 21  NATIONALITAET_KZ       891221 non-null  int64  \n",
      " 22  PRAEGENDE_JUGENDJAHRE  891221 non-null  int64  \n",
      " 23  RETOURTYP_BK_S         886367 non-null  float64\n",
      " 24  SEMIO_SOZ              891221 non-null  int64  \n",
      " 25  SEMIO_FAM              891221 non-null  int64  \n",
      " 26  SEMIO_REL              891221 non-null  int64  \n",
      " 27  SEMIO_MAT              891221 non-null  int64  \n",
      " 28  SEMIO_VERT             891221 non-null  int64  \n",
      " 29  SEMIO_LUST             891221 non-null  int64  \n",
      " 30  SEMIO_ERL              891221 non-null  int64  \n",
      " 31  SEMIO_KULT             891221 non-null  int64  \n",
      " 32  SEMIO_RAT              891221 non-null  int64  \n",
      " 33  SEMIO_KRIT             891221 non-null  int64  \n",
      " 34  SEMIO_DOM              891221 non-null  int64  \n",
      " 35  SEMIO_KAEM             891221 non-null  int64  \n",
      " 36  SEMIO_PFLICHT          891221 non-null  int64  \n",
      " 37  SEMIO_TRADV            891221 non-null  int64  \n",
      " 38  SHOPPER_TYP            891221 non-null  int64  \n",
      " 39  SOHO_KZ                817722 non-null  float64\n",
      " 40  TITEL_KZ               817722 non-null  float64\n",
      " 41  VERS_TYP               891221 non-null  int64  \n",
      " 42  ZABEOTYP               891221 non-null  int64  \n",
      " 43  ALTER_HH               817722 non-null  float64\n",
      " 44  ANZ_PERSONEN           817722 non-null  float64\n",
      " 45  ANZ_TITEL              817722 non-null  float64\n",
      " 46  HH_EINKOMMEN_SCORE     872873 non-null  float64\n",
      " 47  KK_KUNDENTYP           306609 non-null  float64\n",
      " 48  W_KEIT_KIND_HH         783619 non-null  float64\n",
      " 49  WOHNDAUER_2008         817722 non-null  float64\n",
      " 50  ANZ_HAUSHALTE_AKTIV    798073 non-null  float64\n",
      " 51  ANZ_HH_TITEL           794213 non-null  float64\n",
      " 52  GEBAEUDETYP            798073 non-null  float64\n",
      " 53  KONSUMNAEHE            817252 non-null  float64\n",
      " 54  MIN_GEBAEUDEJAHR       798073 non-null  float64\n",
      " 55  OST_WEST_KZ            798073 non-null  object \n",
      " 56  WOHNLAGE               798073 non-null  float64\n",
      " 57  CAMEO_DEUG_2015        792242 non-null  object \n",
      " 58  CAMEO_DEU_2015         792242 non-null  object \n",
      " 59  CAMEO_INTL_2015        792242 non-null  object \n",
      " 60  KBA05_ANTG1            757897 non-null  float64\n",
      " 61  KBA05_ANTG2            757897 non-null  float64\n",
      " 62  KBA05_ANTG3            757897 non-null  float64\n",
      " 63  KBA05_ANTG4            757897 non-null  float64\n",
      " 64  KBA05_BAUMAX           757897 non-null  float64\n",
      " 65  KBA05_GBZ              757897 non-null  float64\n",
      " 66  BALLRAUM               797481 non-null  float64\n",
      " 67  EWDICHTE               797481 non-null  float64\n",
      " 68  INNENSTADT             797481 non-null  float64\n",
      " 69  GEBAEUDETYP_RASTER     798066 non-null  float64\n",
      " 70  KKK                    770025 non-null  float64\n",
      " 71  MOBI_REGIO             757897 non-null  float64\n",
      " 72  ONLINE_AFFINITAET      886367 non-null  float64\n",
      " 73  REGIOTYP               770025 non-null  float64\n",
      " 74  KBA13_ANZAHL_PKW       785421 non-null  float64\n",
      " 75  PLZ8_ANTG1             774706 non-null  float64\n",
      " 76  PLZ8_ANTG2             774706 non-null  float64\n",
      " 77  PLZ8_ANTG3             774706 non-null  float64\n",
      " 78  PLZ8_ANTG4             774706 non-null  float64\n",
      " 79  PLZ8_BAUMAX            774706 non-null  float64\n",
      " 80  PLZ8_HHZ               774706 non-null  float64\n",
      " 81  PLZ8_GBZ               774706 non-null  float64\n",
      " 82  ARBEIT                 794005 non-null  float64\n",
      " 83  ORTSGR_KLS9            794005 non-null  float64\n",
      " 84  RELAT_AB               794005 non-null  float64\n",
      "dtypes: float64(49), int64(32), object(4)\n",
      "memory usage: 578.0+ MB\n"
     ]
    }
   ],
   "source": [
    "azdias.info()"
   ]
  },
  {
   "cell_type": "code",
   "execution_count": 6,
   "metadata": {},
   "outputs": [
    {
     "data": {
      "text/html": [
       "<div>\n",
       "<style scoped>\n",
       "    .dataframe tbody tr th:only-of-type {\n",
       "        vertical-align: middle;\n",
       "    }\n",
       "\n",
       "    .dataframe tbody tr th {\n",
       "        vertical-align: top;\n",
       "    }\n",
       "\n",
       "    .dataframe thead th {\n",
       "        text-align: right;\n",
       "    }\n",
       "</style>\n",
       "<table border=\"1\" class=\"dataframe\">\n",
       "  <thead>\n",
       "    <tr style=\"text-align: right;\">\n",
       "      <th></th>\n",
       "      <th>AGER_TYP</th>\n",
       "      <th>ALTERSKATEGORIE_GROB</th>\n",
       "      <th>ANREDE_KZ</th>\n",
       "      <th>CJT_GESAMTTYP</th>\n",
       "      <th>FINANZ_MINIMALIST</th>\n",
       "      <th>FINANZ_SPARER</th>\n",
       "      <th>FINANZ_VORSORGER</th>\n",
       "      <th>FINANZ_ANLEGER</th>\n",
       "      <th>FINANZ_UNAUFFAELLIGER</th>\n",
       "      <th>FINANZ_HAUSBAUER</th>\n",
       "      <th>...</th>\n",
       "      <th>PLZ8_ANTG1</th>\n",
       "      <th>PLZ8_ANTG2</th>\n",
       "      <th>PLZ8_ANTG3</th>\n",
       "      <th>PLZ8_ANTG4</th>\n",
       "      <th>PLZ8_BAUMAX</th>\n",
       "      <th>PLZ8_HHZ</th>\n",
       "      <th>PLZ8_GBZ</th>\n",
       "      <th>ARBEIT</th>\n",
       "      <th>ORTSGR_KLS9</th>\n",
       "      <th>RELAT_AB</th>\n",
       "    </tr>\n",
       "  </thead>\n",
       "  <tbody>\n",
       "    <tr>\n",
       "      <th>count</th>\n",
       "      <td>891221.000000</td>\n",
       "      <td>891221.000000</td>\n",
       "      <td>891221.000000</td>\n",
       "      <td>886367.000000</td>\n",
       "      <td>891221.000000</td>\n",
       "      <td>891221.000000</td>\n",
       "      <td>891221.000000</td>\n",
       "      <td>891221.000000</td>\n",
       "      <td>891221.000000</td>\n",
       "      <td>891221.000000</td>\n",
       "      <td>...</td>\n",
       "      <td>774706.000000</td>\n",
       "      <td>774706.000000</td>\n",
       "      <td>774706.000000</td>\n",
       "      <td>774706.000000</td>\n",
       "      <td>774706.000000</td>\n",
       "      <td>774706.000000</td>\n",
       "      <td>774706.000000</td>\n",
       "      <td>794005.000000</td>\n",
       "      <td>794005.000000</td>\n",
       "      <td>794005.00000</td>\n",
       "    </tr>\n",
       "    <tr>\n",
       "      <th>mean</th>\n",
       "      <td>-0.358435</td>\n",
       "      <td>2.777398</td>\n",
       "      <td>1.522098</td>\n",
       "      <td>3.632838</td>\n",
       "      <td>3.074528</td>\n",
       "      <td>2.821039</td>\n",
       "      <td>3.401106</td>\n",
       "      <td>3.033328</td>\n",
       "      <td>2.874167</td>\n",
       "      <td>3.075121</td>\n",
       "      <td>...</td>\n",
       "      <td>2.253330</td>\n",
       "      <td>2.801858</td>\n",
       "      <td>1.595426</td>\n",
       "      <td>0.699166</td>\n",
       "      <td>1.943913</td>\n",
       "      <td>3.612821</td>\n",
       "      <td>3.381087</td>\n",
       "      <td>3.167854</td>\n",
       "      <td>5.293002</td>\n",
       "      <td>3.07222</td>\n",
       "    </tr>\n",
       "    <tr>\n",
       "      <th>std</th>\n",
       "      <td>1.198724</td>\n",
       "      <td>1.068775</td>\n",
       "      <td>0.499512</td>\n",
       "      <td>1.595021</td>\n",
       "      <td>1.321055</td>\n",
       "      <td>1.464749</td>\n",
       "      <td>1.322134</td>\n",
       "      <td>1.529603</td>\n",
       "      <td>1.486731</td>\n",
       "      <td>1.353248</td>\n",
       "      <td>...</td>\n",
       "      <td>0.972008</td>\n",
       "      <td>0.920309</td>\n",
       "      <td>0.986736</td>\n",
       "      <td>0.727137</td>\n",
       "      <td>1.459654</td>\n",
       "      <td>0.973967</td>\n",
       "      <td>1.111598</td>\n",
       "      <td>1.002376</td>\n",
       "      <td>2.303739</td>\n",
       "      <td>1.36298</td>\n",
       "    </tr>\n",
       "    <tr>\n",
       "      <th>min</th>\n",
       "      <td>-1.000000</td>\n",
       "      <td>1.000000</td>\n",
       "      <td>1.000000</td>\n",
       "      <td>1.000000</td>\n",
       "      <td>1.000000</td>\n",
       "      <td>1.000000</td>\n",
       "      <td>1.000000</td>\n",
       "      <td>1.000000</td>\n",
       "      <td>1.000000</td>\n",
       "      <td>1.000000</td>\n",
       "      <td>...</td>\n",
       "      <td>0.000000</td>\n",
       "      <td>0.000000</td>\n",
       "      <td>0.000000</td>\n",
       "      <td>0.000000</td>\n",
       "      <td>1.000000</td>\n",
       "      <td>1.000000</td>\n",
       "      <td>1.000000</td>\n",
       "      <td>1.000000</td>\n",
       "      <td>0.000000</td>\n",
       "      <td>1.00000</td>\n",
       "    </tr>\n",
       "    <tr>\n",
       "      <th>25%</th>\n",
       "      <td>-1.000000</td>\n",
       "      <td>2.000000</td>\n",
       "      <td>1.000000</td>\n",
       "      <td>2.000000</td>\n",
       "      <td>2.000000</td>\n",
       "      <td>1.000000</td>\n",
       "      <td>3.000000</td>\n",
       "      <td>2.000000</td>\n",
       "      <td>2.000000</td>\n",
       "      <td>2.000000</td>\n",
       "      <td>...</td>\n",
       "      <td>1.000000</td>\n",
       "      <td>2.000000</td>\n",
       "      <td>1.000000</td>\n",
       "      <td>0.000000</td>\n",
       "      <td>1.000000</td>\n",
       "      <td>3.000000</td>\n",
       "      <td>3.000000</td>\n",
       "      <td>3.000000</td>\n",
       "      <td>4.000000</td>\n",
       "      <td>2.00000</td>\n",
       "    </tr>\n",
       "    <tr>\n",
       "      <th>50%</th>\n",
       "      <td>-1.000000</td>\n",
       "      <td>3.000000</td>\n",
       "      <td>2.000000</td>\n",
       "      <td>4.000000</td>\n",
       "      <td>3.000000</td>\n",
       "      <td>3.000000</td>\n",
       "      <td>3.000000</td>\n",
       "      <td>3.000000</td>\n",
       "      <td>3.000000</td>\n",
       "      <td>3.000000</td>\n",
       "      <td>...</td>\n",
       "      <td>2.000000</td>\n",
       "      <td>3.000000</td>\n",
       "      <td>2.000000</td>\n",
       "      <td>1.000000</td>\n",
       "      <td>1.000000</td>\n",
       "      <td>4.000000</td>\n",
       "      <td>3.000000</td>\n",
       "      <td>3.000000</td>\n",
       "      <td>5.000000</td>\n",
       "      <td>3.00000</td>\n",
       "    </tr>\n",
       "    <tr>\n",
       "      <th>75%</th>\n",
       "      <td>-1.000000</td>\n",
       "      <td>4.000000</td>\n",
       "      <td>2.000000</td>\n",
       "      <td>5.000000</td>\n",
       "      <td>4.000000</td>\n",
       "      <td>4.000000</td>\n",
       "      <td>5.000000</td>\n",
       "      <td>5.000000</td>\n",
       "      <td>4.000000</td>\n",
       "      <td>4.000000</td>\n",
       "      <td>...</td>\n",
       "      <td>3.000000</td>\n",
       "      <td>3.000000</td>\n",
       "      <td>2.000000</td>\n",
       "      <td>1.000000</td>\n",
       "      <td>3.000000</td>\n",
       "      <td>4.000000</td>\n",
       "      <td>4.000000</td>\n",
       "      <td>4.000000</td>\n",
       "      <td>7.000000</td>\n",
       "      <td>4.00000</td>\n",
       "    </tr>\n",
       "    <tr>\n",
       "      <th>max</th>\n",
       "      <td>3.000000</td>\n",
       "      <td>9.000000</td>\n",
       "      <td>2.000000</td>\n",
       "      <td>6.000000</td>\n",
       "      <td>5.000000</td>\n",
       "      <td>5.000000</td>\n",
       "      <td>5.000000</td>\n",
       "      <td>5.000000</td>\n",
       "      <td>5.000000</td>\n",
       "      <td>5.000000</td>\n",
       "      <td>...</td>\n",
       "      <td>4.000000</td>\n",
       "      <td>4.000000</td>\n",
       "      <td>3.000000</td>\n",
       "      <td>2.000000</td>\n",
       "      <td>5.000000</td>\n",
       "      <td>5.000000</td>\n",
       "      <td>5.000000</td>\n",
       "      <td>9.000000</td>\n",
       "      <td>9.000000</td>\n",
       "      <td>9.00000</td>\n",
       "    </tr>\n",
       "  </tbody>\n",
       "</table>\n",
       "<p>8 rows × 81 columns</p>\n",
       "</div>"
      ],
      "text/plain": [
       "            AGER_TYP  ALTERSKATEGORIE_GROB      ANREDE_KZ  CJT_GESAMTTYP  \\\n",
       "count  891221.000000         891221.000000  891221.000000  886367.000000   \n",
       "mean       -0.358435              2.777398       1.522098       3.632838   \n",
       "std         1.198724              1.068775       0.499512       1.595021   \n",
       "min        -1.000000              1.000000       1.000000       1.000000   \n",
       "25%        -1.000000              2.000000       1.000000       2.000000   \n",
       "50%        -1.000000              3.000000       2.000000       4.000000   \n",
       "75%        -1.000000              4.000000       2.000000       5.000000   \n",
       "max         3.000000              9.000000       2.000000       6.000000   \n",
       "\n",
       "       FINANZ_MINIMALIST  FINANZ_SPARER  FINANZ_VORSORGER  FINANZ_ANLEGER  \\\n",
       "count      891221.000000  891221.000000     891221.000000   891221.000000   \n",
       "mean            3.074528       2.821039          3.401106        3.033328   \n",
       "std             1.321055       1.464749          1.322134        1.529603   \n",
       "min             1.000000       1.000000          1.000000        1.000000   \n",
       "25%             2.000000       1.000000          3.000000        2.000000   \n",
       "50%             3.000000       3.000000          3.000000        3.000000   \n",
       "75%             4.000000       4.000000          5.000000        5.000000   \n",
       "max             5.000000       5.000000          5.000000        5.000000   \n",
       "\n",
       "       FINANZ_UNAUFFAELLIGER  FINANZ_HAUSBAUER  ...     PLZ8_ANTG1  \\\n",
       "count          891221.000000     891221.000000  ...  774706.000000   \n",
       "mean                2.874167          3.075121  ...       2.253330   \n",
       "std                 1.486731          1.353248  ...       0.972008   \n",
       "min                 1.000000          1.000000  ...       0.000000   \n",
       "25%                 2.000000          2.000000  ...       1.000000   \n",
       "50%                 3.000000          3.000000  ...       2.000000   \n",
       "75%                 4.000000          4.000000  ...       3.000000   \n",
       "max                 5.000000          5.000000  ...       4.000000   \n",
       "\n",
       "          PLZ8_ANTG2     PLZ8_ANTG3     PLZ8_ANTG4    PLZ8_BAUMAX  \\\n",
       "count  774706.000000  774706.000000  774706.000000  774706.000000   \n",
       "mean        2.801858       1.595426       0.699166       1.943913   \n",
       "std         0.920309       0.986736       0.727137       1.459654   \n",
       "min         0.000000       0.000000       0.000000       1.000000   \n",
       "25%         2.000000       1.000000       0.000000       1.000000   \n",
       "50%         3.000000       2.000000       1.000000       1.000000   \n",
       "75%         3.000000       2.000000       1.000000       3.000000   \n",
       "max         4.000000       3.000000       2.000000       5.000000   \n",
       "\n",
       "            PLZ8_HHZ       PLZ8_GBZ         ARBEIT    ORTSGR_KLS9  \\\n",
       "count  774706.000000  774706.000000  794005.000000  794005.000000   \n",
       "mean        3.612821       3.381087       3.167854       5.293002   \n",
       "std         0.973967       1.111598       1.002376       2.303739   \n",
       "min         1.000000       1.000000       1.000000       0.000000   \n",
       "25%         3.000000       3.000000       3.000000       4.000000   \n",
       "50%         4.000000       3.000000       3.000000       5.000000   \n",
       "75%         4.000000       4.000000       4.000000       7.000000   \n",
       "max         5.000000       5.000000       9.000000       9.000000   \n",
       "\n",
       "           RELAT_AB  \n",
       "count  794005.00000  \n",
       "mean        3.07222  \n",
       "std         1.36298  \n",
       "min         1.00000  \n",
       "25%         2.00000  \n",
       "50%         3.00000  \n",
       "75%         4.00000  \n",
       "max         9.00000  \n",
       "\n",
       "[8 rows x 81 columns]"
      ]
     },
     "execution_count": 6,
     "metadata": {},
     "output_type": "execute_result"
    }
   ],
   "source": [
    "azdias.describe()"
   ]
  },
  {
   "cell_type": "code",
   "execution_count": 8,
   "metadata": {},
   "outputs": [
    {
     "data": {
      "text/plain": [
       "(85, 4)"
      ]
     },
     "execution_count": 8,
     "metadata": {},
     "output_type": "execute_result"
    }
   ],
   "source": [
    "feat_info.shape"
   ]
  },
  {
   "cell_type": "code",
   "execution_count": 9,
   "metadata": {},
   "outputs": [
    {
     "data": {
      "text/html": [
       "<div>\n",
       "<style scoped>\n",
       "    .dataframe tbody tr th:only-of-type {\n",
       "        vertical-align: middle;\n",
       "    }\n",
       "\n",
       "    .dataframe tbody tr th {\n",
       "        vertical-align: top;\n",
       "    }\n",
       "\n",
       "    .dataframe thead th {\n",
       "        text-align: right;\n",
       "    }\n",
       "</style>\n",
       "<table border=\"1\" class=\"dataframe\">\n",
       "  <thead>\n",
       "    <tr style=\"text-align: right;\">\n",
       "      <th></th>\n",
       "      <th>attribute</th>\n",
       "      <th>information_level</th>\n",
       "      <th>type</th>\n",
       "      <th>missing_or_unknown</th>\n",
       "    </tr>\n",
       "  </thead>\n",
       "  <tbody>\n",
       "    <tr>\n",
       "      <th>0</th>\n",
       "      <td>AGER_TYP</td>\n",
       "      <td>person</td>\n",
       "      <td>categorical</td>\n",
       "      <td>[-1,0]</td>\n",
       "    </tr>\n",
       "    <tr>\n",
       "      <th>1</th>\n",
       "      <td>ALTERSKATEGORIE_GROB</td>\n",
       "      <td>person</td>\n",
       "      <td>ordinal</td>\n",
       "      <td>[-1,0,9]</td>\n",
       "    </tr>\n",
       "    <tr>\n",
       "      <th>2</th>\n",
       "      <td>ANREDE_KZ</td>\n",
       "      <td>person</td>\n",
       "      <td>categorical</td>\n",
       "      <td>[-1,0]</td>\n",
       "    </tr>\n",
       "    <tr>\n",
       "      <th>3</th>\n",
       "      <td>CJT_GESAMTTYP</td>\n",
       "      <td>person</td>\n",
       "      <td>categorical</td>\n",
       "      <td>[0]</td>\n",
       "    </tr>\n",
       "    <tr>\n",
       "      <th>4</th>\n",
       "      <td>FINANZ_MINIMALIST</td>\n",
       "      <td>person</td>\n",
       "      <td>ordinal</td>\n",
       "      <td>[-1]</td>\n",
       "    </tr>\n",
       "  </tbody>\n",
       "</table>\n",
       "</div>"
      ],
      "text/plain": [
       "              attribute information_level         type missing_or_unknown\n",
       "0              AGER_TYP            person  categorical             [-1,0]\n",
       "1  ALTERSKATEGORIE_GROB            person      ordinal           [-1,0,9]\n",
       "2             ANREDE_KZ            person  categorical             [-1,0]\n",
       "3         CJT_GESAMTTYP            person  categorical                [0]\n",
       "4     FINANZ_MINIMALIST            person      ordinal               [-1]"
      ]
     },
     "execution_count": 9,
     "metadata": {},
     "output_type": "execute_result"
    }
   ],
   "source": [
    "feat_info.head()"
   ]
  },
  {
   "cell_type": "code",
   "execution_count": 10,
   "metadata": {},
   "outputs": [
    {
     "name": "stdout",
     "output_type": "stream",
     "text": [
      "<class 'pandas.core.frame.DataFrame'>\n",
      "RangeIndex: 85 entries, 0 to 84\n",
      "Data columns (total 4 columns):\n",
      " #   Column              Non-Null Count  Dtype \n",
      "---  ------              --------------  ----- \n",
      " 0   attribute           85 non-null     object\n",
      " 1   information_level   85 non-null     object\n",
      " 2   type                85 non-null     object\n",
      " 3   missing_or_unknown  85 non-null     object\n",
      "dtypes: object(4)\n",
      "memory usage: 2.8+ KB\n"
     ]
    }
   ],
   "source": [
    "feat_info.info()"
   ]
  },
  {
   "cell_type": "code",
   "execution_count": 11,
   "metadata": {
    "scrolled": true
   },
   "outputs": [
    {
     "data": {
      "text/html": [
       "<div>\n",
       "<style scoped>\n",
       "    .dataframe tbody tr th:only-of-type {\n",
       "        vertical-align: middle;\n",
       "    }\n",
       "\n",
       "    .dataframe tbody tr th {\n",
       "        vertical-align: top;\n",
       "    }\n",
       "\n",
       "    .dataframe thead th {\n",
       "        text-align: right;\n",
       "    }\n",
       "</style>\n",
       "<table border=\"1\" class=\"dataframe\">\n",
       "  <thead>\n",
       "    <tr style=\"text-align: right;\">\n",
       "      <th></th>\n",
       "      <th>attribute</th>\n",
       "      <th>information_level</th>\n",
       "      <th>type</th>\n",
       "      <th>missing_or_unknown</th>\n",
       "    </tr>\n",
       "  </thead>\n",
       "  <tbody>\n",
       "    <tr>\n",
       "      <th>0</th>\n",
       "      <td>AGER_TYP</td>\n",
       "      <td>person</td>\n",
       "      <td>categorical</td>\n",
       "      <td>[-1,0]</td>\n",
       "    </tr>\n",
       "    <tr>\n",
       "      <th>1</th>\n",
       "      <td>ALTERSKATEGORIE_GROB</td>\n",
       "      <td>person</td>\n",
       "      <td>ordinal</td>\n",
       "      <td>[-1,0,9]</td>\n",
       "    </tr>\n",
       "    <tr>\n",
       "      <th>2</th>\n",
       "      <td>ANREDE_KZ</td>\n",
       "      <td>person</td>\n",
       "      <td>categorical</td>\n",
       "      <td>[-1,0]</td>\n",
       "    </tr>\n",
       "    <tr>\n",
       "      <th>3</th>\n",
       "      <td>CJT_GESAMTTYP</td>\n",
       "      <td>person</td>\n",
       "      <td>categorical</td>\n",
       "      <td>[0]</td>\n",
       "    </tr>\n",
       "    <tr>\n",
       "      <th>4</th>\n",
       "      <td>FINANZ_MINIMALIST</td>\n",
       "      <td>person</td>\n",
       "      <td>ordinal</td>\n",
       "      <td>[-1]</td>\n",
       "    </tr>\n",
       "    <tr>\n",
       "      <th>...</th>\n",
       "      <td>...</td>\n",
       "      <td>...</td>\n",
       "      <td>...</td>\n",
       "      <td>...</td>\n",
       "    </tr>\n",
       "    <tr>\n",
       "      <th>80</th>\n",
       "      <td>PLZ8_HHZ</td>\n",
       "      <td>macrocell_plz8</td>\n",
       "      <td>ordinal</td>\n",
       "      <td>[-1]</td>\n",
       "    </tr>\n",
       "    <tr>\n",
       "      <th>81</th>\n",
       "      <td>PLZ8_GBZ</td>\n",
       "      <td>macrocell_plz8</td>\n",
       "      <td>ordinal</td>\n",
       "      <td>[-1]</td>\n",
       "    </tr>\n",
       "    <tr>\n",
       "      <th>82</th>\n",
       "      <td>ARBEIT</td>\n",
       "      <td>community</td>\n",
       "      <td>ordinal</td>\n",
       "      <td>[-1,9]</td>\n",
       "    </tr>\n",
       "    <tr>\n",
       "      <th>83</th>\n",
       "      <td>ORTSGR_KLS9</td>\n",
       "      <td>community</td>\n",
       "      <td>ordinal</td>\n",
       "      <td>[-1,0]</td>\n",
       "    </tr>\n",
       "    <tr>\n",
       "      <th>84</th>\n",
       "      <td>RELAT_AB</td>\n",
       "      <td>community</td>\n",
       "      <td>ordinal</td>\n",
       "      <td>[-1,9]</td>\n",
       "    </tr>\n",
       "  </tbody>\n",
       "</table>\n",
       "<p>85 rows × 4 columns</p>\n",
       "</div>"
      ],
      "text/plain": [
       "               attribute information_level         type missing_or_unknown\n",
       "0               AGER_TYP            person  categorical             [-1,0]\n",
       "1   ALTERSKATEGORIE_GROB            person      ordinal           [-1,0,9]\n",
       "2              ANREDE_KZ            person  categorical             [-1,0]\n",
       "3          CJT_GESAMTTYP            person  categorical                [0]\n",
       "4      FINANZ_MINIMALIST            person      ordinal               [-1]\n",
       "..                   ...               ...          ...                ...\n",
       "80              PLZ8_HHZ    macrocell_plz8      ordinal               [-1]\n",
       "81              PLZ8_GBZ    macrocell_plz8      ordinal               [-1]\n",
       "82                ARBEIT         community      ordinal             [-1,9]\n",
       "83           ORTSGR_KLS9         community      ordinal             [-1,0]\n",
       "84              RELAT_AB         community      ordinal             [-1,9]\n",
       "\n",
       "[85 rows x 4 columns]"
      ]
     },
     "execution_count": 11,
     "metadata": {},
     "output_type": "execute_result"
    }
   ],
   "source": [
    "feat_info"
   ]
  },
  {
   "cell_type": "markdown",
   "metadata": {},
   "source": [
    "\n",
    "\n",
    "## Step 1: Preprocessing\n",
    "\n"
   ]
  },
  {
   "cell_type": "code",
   "execution_count": 12,
   "metadata": {
    "scrolled": true
   },
   "outputs": [
    {
     "name": "stdout",
     "output_type": "stream",
     "text": [
      "<class 'pandas.core.frame.DataFrame'>\n",
      "RangeIndex: 891221 entries, 0 to 891220\n",
      "Data columns (total 85 columns):\n",
      " #   Column                 Non-Null Count   Dtype  \n",
      "---  ------                 --------------   -----  \n",
      " 0   AGER_TYP               891221 non-null  int64  \n",
      " 1   ALTERSKATEGORIE_GROB   891221 non-null  int64  \n",
      " 2   ANREDE_KZ              891221 non-null  int64  \n",
      " 3   CJT_GESAMTTYP          886367 non-null  float64\n",
      " 4   FINANZ_MINIMALIST      891221 non-null  int64  \n",
      " 5   FINANZ_SPARER          891221 non-null  int64  \n",
      " 6   FINANZ_VORSORGER       891221 non-null  int64  \n",
      " 7   FINANZ_ANLEGER         891221 non-null  int64  \n",
      " 8   FINANZ_UNAUFFAELLIGER  891221 non-null  int64  \n",
      " 9   FINANZ_HAUSBAUER       891221 non-null  int64  \n",
      " 10  FINANZTYP              891221 non-null  int64  \n",
      " 11  GEBURTSJAHR            891221 non-null  int64  \n",
      " 12  GFK_URLAUBERTYP        886367 non-null  float64\n",
      " 13  GREEN_AVANTGARDE       891221 non-null  int64  \n",
      " 14  HEALTH_TYP             891221 non-null  int64  \n",
      " 15  LP_LEBENSPHASE_FEIN    886367 non-null  float64\n",
      " 16  LP_LEBENSPHASE_GROB    886367 non-null  float64\n",
      " 17  LP_FAMILIE_FEIN        886367 non-null  float64\n",
      " 18  LP_FAMILIE_GROB        886367 non-null  float64\n",
      " 19  LP_STATUS_FEIN         886367 non-null  float64\n",
      " 20  LP_STATUS_GROB         886367 non-null  float64\n",
      " 21  NATIONALITAET_KZ       891221 non-null  int64  \n",
      " 22  PRAEGENDE_JUGENDJAHRE  891221 non-null  int64  \n",
      " 23  RETOURTYP_BK_S         886367 non-null  float64\n",
      " 24  SEMIO_SOZ              891221 non-null  int64  \n",
      " 25  SEMIO_FAM              891221 non-null  int64  \n",
      " 26  SEMIO_REL              891221 non-null  int64  \n",
      " 27  SEMIO_MAT              891221 non-null  int64  \n",
      " 28  SEMIO_VERT             891221 non-null  int64  \n",
      " 29  SEMIO_LUST             891221 non-null  int64  \n",
      " 30  SEMIO_ERL              891221 non-null  int64  \n",
      " 31  SEMIO_KULT             891221 non-null  int64  \n",
      " 32  SEMIO_RAT              891221 non-null  int64  \n",
      " 33  SEMIO_KRIT             891221 non-null  int64  \n",
      " 34  SEMIO_DOM              891221 non-null  int64  \n",
      " 35  SEMIO_KAEM             891221 non-null  int64  \n",
      " 36  SEMIO_PFLICHT          891221 non-null  int64  \n",
      " 37  SEMIO_TRADV            891221 non-null  int64  \n",
      " 38  SHOPPER_TYP            891221 non-null  int64  \n",
      " 39  SOHO_KZ                817722 non-null  float64\n",
      " 40  TITEL_KZ               817722 non-null  float64\n",
      " 41  VERS_TYP               891221 non-null  int64  \n",
      " 42  ZABEOTYP               891221 non-null  int64  \n",
      " 43  ALTER_HH               817722 non-null  float64\n",
      " 44  ANZ_PERSONEN           817722 non-null  float64\n",
      " 45  ANZ_TITEL              817722 non-null  float64\n",
      " 46  HH_EINKOMMEN_SCORE     872873 non-null  float64\n",
      " 47  KK_KUNDENTYP           306609 non-null  float64\n",
      " 48  W_KEIT_KIND_HH         783619 non-null  float64\n",
      " 49  WOHNDAUER_2008         817722 non-null  float64\n",
      " 50  ANZ_HAUSHALTE_AKTIV    798073 non-null  float64\n",
      " 51  ANZ_HH_TITEL           794213 non-null  float64\n",
      " 52  GEBAEUDETYP            798073 non-null  float64\n",
      " 53  KONSUMNAEHE            817252 non-null  float64\n",
      " 54  MIN_GEBAEUDEJAHR       798073 non-null  float64\n",
      " 55  OST_WEST_KZ            798073 non-null  object \n",
      " 56  WOHNLAGE               798073 non-null  float64\n",
      " 57  CAMEO_DEUG_2015        792242 non-null  object \n",
      " 58  CAMEO_DEU_2015         792242 non-null  object \n",
      " 59  CAMEO_INTL_2015        792242 non-null  object \n",
      " 60  KBA05_ANTG1            757897 non-null  float64\n",
      " 61  KBA05_ANTG2            757897 non-null  float64\n",
      " 62  KBA05_ANTG3            757897 non-null  float64\n",
      " 63  KBA05_ANTG4            757897 non-null  float64\n",
      " 64  KBA05_BAUMAX           757897 non-null  float64\n",
      " 65  KBA05_GBZ              757897 non-null  float64\n",
      " 66  BALLRAUM               797481 non-null  float64\n",
      " 67  EWDICHTE               797481 non-null  float64\n",
      " 68  INNENSTADT             797481 non-null  float64\n",
      " 69  GEBAEUDETYP_RASTER     798066 non-null  float64\n",
      " 70  KKK                    770025 non-null  float64\n",
      " 71  MOBI_REGIO             757897 non-null  float64\n",
      " 72  ONLINE_AFFINITAET      886367 non-null  float64\n",
      " 73  REGIOTYP               770025 non-null  float64\n",
      " 74  KBA13_ANZAHL_PKW       785421 non-null  float64\n",
      " 75  PLZ8_ANTG1             774706 non-null  float64\n",
      " 76  PLZ8_ANTG2             774706 non-null  float64\n",
      " 77  PLZ8_ANTG3             774706 non-null  float64\n",
      " 78  PLZ8_ANTG4             774706 non-null  float64\n",
      " 79  PLZ8_BAUMAX            774706 non-null  float64\n",
      " 80  PLZ8_HHZ               774706 non-null  float64\n",
      " 81  PLZ8_GBZ               774706 non-null  float64\n",
      " 82  ARBEIT                 794005 non-null  float64\n",
      " 83  ORTSGR_KLS9            794005 non-null  float64\n",
      " 84  RELAT_AB               794005 non-null  float64\n",
      "dtypes: float64(49), int64(32), object(4)\n",
      "memory usage: 578.0+ MB\n"
     ]
    }
   ],
   "source": [
    "# Identify missing or unknown data values and convert them to NaNs.\n",
    "# pre missing values converted to NaN\n",
    "\n",
    "azdias.info()"
   ]
  },
  {
   "cell_type": "code",
   "execution_count": 14,
   "metadata": {},
   "outputs": [
    {
     "data": {
      "text/plain": [
       "array(['[-1,0]', '[-1,0,9]', '[0]', '[-1]', '[]', '[-1,9]', '[-1,X]',\n",
       "       '[XX]', '[-1,XX]'], dtype=object)"
      ]
     },
     "execution_count": 14,
     "metadata": {},
     "output_type": "execute_result"
    }
   ],
   "source": [
    "# check what values represent missing values\n",
    "\n",
    "feat_info.missing_or_unknown.unique()"
   ]
  },
  {
   "cell_type": "code",
   "execution_count": 288,
   "metadata": {},
   "outputs": [],
   "source": [
    "# use regular expression to go through the feat_info dataframe and get the values relating to missing data\n",
    "\n",
    "new_list = []\n",
    "for index in range(len(feat_info)):\n",
    "    find = re.findall(r'\\[(.*?)\\]', feat_info['missing_or_unknown'][index])\n",
    "    new = find[0].split(',')\n",
    "    new_list.append(new)"
   ]
  },
  {
   "cell_type": "code",
   "execution_count": 289,
   "metadata": {},
   "outputs": [],
   "source": [
    "# create new dictionary with attribute name and missing values\n",
    "\n",
    "missing_key = dict(zip(feat_info.attribute, new_list))"
   ]
  },
  {
   "cell_type": "code",
   "execution_count": 290,
   "metadata": {},
   "outputs": [],
   "source": [
    "# cycle through new dictionary to replace missing values with numpy nan values\n",
    "\n",
    "for key, value in missing_key.items():\n",
    "    for val in value:\n",
    "        if val not in ['XX', 'X', '']:\n",
    "            val = int(val)\n",
    "            azdias[key] = azdias[key].replace(val, np.NaN)\n",
    "        elif val != '':\n",
    "            azdias[key] = azdias[key].replace(val, np.NaN)"
   ]
  },
  {
   "cell_type": "code",
   "execution_count": 19,
   "metadata": {
    "scrolled": true
   },
   "outputs": [
    {
     "name": "stdout",
     "output_type": "stream",
     "text": [
      "<class 'pandas.core.frame.DataFrame'>\n",
      "RangeIndex: 891221 entries, 0 to 891220\n",
      "Data columns (total 85 columns):\n",
      " #   Column                 Non-Null Count   Dtype  \n",
      "---  ------                 --------------   -----  \n",
      " 0   AGER_TYP               205378 non-null  float64\n",
      " 1   ALTERSKATEGORIE_GROB   888340 non-null  float64\n",
      " 2   ANREDE_KZ              891221 non-null  int64  \n",
      " 3   CJT_GESAMTTYP          886367 non-null  float64\n",
      " 4   FINANZ_MINIMALIST      891221 non-null  int64  \n",
      " 5   FINANZ_SPARER          891221 non-null  int64  \n",
      " 6   FINANZ_VORSORGER       891221 non-null  int64  \n",
      " 7   FINANZ_ANLEGER         891221 non-null  int64  \n",
      " 8   FINANZ_UNAUFFAELLIGER  891221 non-null  int64  \n",
      " 9   FINANZ_HAUSBAUER       891221 non-null  int64  \n",
      " 10  FINANZTYP              891221 non-null  int64  \n",
      " 11  GEBURTSJAHR            498903 non-null  float64\n",
      " 12  GFK_URLAUBERTYP        886367 non-null  float64\n",
      " 13  GREEN_AVANTGARDE       891221 non-null  int64  \n",
      " 14  HEALTH_TYP             780025 non-null  float64\n",
      " 15  LP_LEBENSPHASE_FEIN    793589 non-null  float64\n",
      " 16  LP_LEBENSPHASE_GROB    796649 non-null  float64\n",
      " 17  LP_FAMILIE_FEIN        813429 non-null  float64\n",
      " 18  LP_FAMILIE_GROB        813429 non-null  float64\n",
      " 19  LP_STATUS_FEIN         886367 non-null  float64\n",
      " 20  LP_STATUS_GROB         886367 non-null  float64\n",
      " 21  NATIONALITAET_KZ       782906 non-null  float64\n",
      " 22  PRAEGENDE_JUGENDJAHRE  783057 non-null  float64\n",
      " 23  RETOURTYP_BK_S         886367 non-null  float64\n",
      " 24  SEMIO_SOZ              891221 non-null  int64  \n",
      " 25  SEMIO_FAM              891221 non-null  int64  \n",
      " 26  SEMIO_REL              891221 non-null  int64  \n",
      " 27  SEMIO_MAT              891221 non-null  int64  \n",
      " 28  SEMIO_VERT             891221 non-null  int64  \n",
      " 29  SEMIO_LUST             891221 non-null  int64  \n",
      " 30  SEMIO_ERL              891221 non-null  int64  \n",
      " 31  SEMIO_KULT             891221 non-null  int64  \n",
      " 32  SEMIO_RAT              891221 non-null  int64  \n",
      " 33  SEMIO_KRIT             891221 non-null  int64  \n",
      " 34  SEMIO_DOM              891221 non-null  int64  \n",
      " 35  SEMIO_KAEM             891221 non-null  int64  \n",
      " 36  SEMIO_PFLICHT          891221 non-null  int64  \n",
      " 37  SEMIO_TRADV            891221 non-null  int64  \n",
      " 38  SHOPPER_TYP            780025 non-null  float64\n",
      " 39  SOHO_KZ                817722 non-null  float64\n",
      " 40  TITEL_KZ               2160 non-null    float64\n",
      " 41  VERS_TYP               780025 non-null  float64\n",
      " 42  ZABEOTYP               891221 non-null  int64  \n",
      " 43  ALTER_HH               580954 non-null  float64\n",
      " 44  ANZ_PERSONEN           817722 non-null  float64\n",
      " 45  ANZ_TITEL              817722 non-null  float64\n",
      " 46  HH_EINKOMMEN_SCORE     872873 non-null  float64\n",
      " 47  KK_KUNDENTYP           306609 non-null  float64\n",
      " 48  W_KEIT_KIND_HH         743233 non-null  float64\n",
      " 49  WOHNDAUER_2008         817722 non-null  float64\n",
      " 50  ANZ_HAUSHALTE_AKTIV    791610 non-null  float64\n",
      " 51  ANZ_HH_TITEL           794213 non-null  float64\n",
      " 52  GEBAEUDETYP            798073 non-null  float64\n",
      " 53  KONSUMNAEHE            817252 non-null  float64\n",
      " 54  MIN_GEBAEUDEJAHR       798073 non-null  float64\n",
      " 55  OST_WEST_KZ            798073 non-null  object \n",
      " 56  WOHNLAGE               798073 non-null  float64\n",
      " 57  CAMEO_DEUG_2015        791869 non-null  object \n",
      " 58  CAMEO_DEU_2015         791869 non-null  object \n",
      " 59  CAMEO_INTL_2015        791869 non-null  object \n",
      " 60  KBA05_ANTG1            757897 non-null  float64\n",
      " 61  KBA05_ANTG2            757897 non-null  float64\n",
      " 62  KBA05_ANTG3            757897 non-null  float64\n",
      " 63  KBA05_ANTG4            757897 non-null  float64\n",
      " 64  KBA05_BAUMAX           414697 non-null  float64\n",
      " 65  KBA05_GBZ              757897 non-null  float64\n",
      " 66  BALLRAUM               797481 non-null  float64\n",
      " 67  EWDICHTE               797481 non-null  float64\n",
      " 68  INNENSTADT             797481 non-null  float64\n",
      " 69  GEBAEUDETYP_RASTER     798066 non-null  float64\n",
      " 70  KKK                    733157 non-null  float64\n",
      " 71  MOBI_REGIO             757897 non-null  float64\n",
      " 72  ONLINE_AFFINITAET      886367 non-null  float64\n",
      " 73  REGIOTYP               733157 non-null  float64\n",
      " 74  KBA13_ANZAHL_PKW       785421 non-null  float64\n",
      " 75  PLZ8_ANTG1             774706 non-null  float64\n",
      " 76  PLZ8_ANTG2             774706 non-null  float64\n",
      " 77  PLZ8_ANTG3             774706 non-null  float64\n",
      " 78  PLZ8_ANTG4             774706 non-null  float64\n",
      " 79  PLZ8_BAUMAX            774706 non-null  float64\n",
      " 80  PLZ8_HHZ               774706 non-null  float64\n",
      " 81  PLZ8_GBZ               774706 non-null  float64\n",
      " 82  ARBEIT                 793846 non-null  float64\n",
      " 83  ORTSGR_KLS9            793947 non-null  float64\n",
      " 84  RELAT_AB               793846 non-null  float64\n",
      "dtypes: float64(57), int64(24), object(4)\n",
      "memory usage: 578.0+ MB\n"
     ]
    }
   ],
   "source": [
    "# post converting missing values to NaN to make sure the loop worked\n",
    "\n",
    "azdias.info()"
   ]
  },
  {
   "cell_type": "code",
   "execution_count": 20,
   "metadata": {},
   "outputs": [
    {
     "data": {
      "image/png": "[encoded data removed]",
      "text/plain": [
       "<Figure size 1440x1440 with 1 Axes>"
      ]
     },
     "metadata": {
      "needs_background": "light"
     },
     "output_type": "display_data"
    }
   ],
   "source": [
    "# Perform an assessment of how much missing data there is in each column of the\n",
    "# dataset.\n",
    "\n",
    "ax = azdias.isnull().mean().plot.bar(figsize=(20,20))\n",
    "ax.axhline(.2, color='red');"
   ]
  },
  {
   "cell_type": "code",
   "execution_count": 21,
   "metadata": {},
   "outputs": [
    {
     "data": {
      "image/png": "[encoded data removed]",
      "text/plain": [
       "<Figure size 1440x1440 with 1 Axes>"
      ]
     },
     "metadata": {
      "needs_background": "light"
     },
     "output_type": "display_data"
    }
   ],
   "source": [
    "ax = azdias.isnull().sum().plot.bar(figsize=(20,20))\n",
    "ax.axhline(200000, color='red');"
   ]
  },
  {
   "cell_type": "code",
   "execution_count": 22,
   "metadata": {
    "scrolled": true
   },
   "outputs": [
    {
     "data": {
      "text/plain": [
       "AGER_TYP                685843\n",
       "ALTERSKATEGORIE_GROB      2881\n",
       "ANREDE_KZ                    0\n",
       "CJT_GESAMTTYP             4854\n",
       "FINANZ_MINIMALIST            0\n",
       "                         ...  \n",
       "PLZ8_HHZ                116515\n",
       "PLZ8_GBZ                116515\n",
       "ARBEIT                   97375\n",
       "ORTSGR_KLS9              97274\n",
       "RELAT_AB                 97375\n",
       "Length: 85, dtype: int64"
      ]
     },
     "execution_count": 22,
     "metadata": {},
     "output_type": "execute_result"
    }
   ],
   "source": [
    "azdias.isnull().sum()"
   ]
  },
  {
   "cell_type": "code",
   "execution_count": 23,
   "metadata": {
    "scrolled": true
   },
   "outputs": [
    {
     "data": {
      "text/plain": [
       "AGER_TYP                0.769554\n",
       "ALTERSKATEGORIE_GROB    0.003233\n",
       "ANREDE_KZ               0.000000\n",
       "CJT_GESAMTTYP           0.005446\n",
       "FINANZ_MINIMALIST       0.000000\n",
       "                          ...   \n",
       "PLZ8_HHZ                0.130736\n",
       "PLZ8_GBZ                0.130736\n",
       "ARBEIT                  0.109260\n",
       "ORTSGR_KLS9             0.109147\n",
       "RELAT_AB                0.109260\n",
       "Length: 85, dtype: float64"
      ]
     },
     "execution_count": 23,
     "metadata": {},
     "output_type": "execute_result"
    }
   ],
   "source": [
    "azdias.isnull().mean()"
   ]
  },
  {
   "cell_type": "code",
   "execution_count": 24,
   "metadata": {},
   "outputs": [],
   "source": [
    "# Investigate patterns in the amount of missing data in each column.\n",
    "miss_data = []\n",
    "for name in azdias.columns:\n",
    "    if azdias[name].isnull().mean() > .2:\n",
    "        miss_data.append(name)\n"
   ]
  },
  {
   "cell_type": "code",
   "execution_count": 25,
   "metadata": {
    "scrolled": true
   },
   "outputs": [
    {
     "data": {
      "text/html": [
       "<div>\n",
       "<style scoped>\n",
       "    .dataframe tbody tr th:only-of-type {\n",
       "        vertical-align: middle;\n",
       "    }\n",
       "\n",
       "    .dataframe tbody tr th {\n",
       "        vertical-align: top;\n",
       "    }\n",
       "\n",
       "    .dataframe thead th {\n",
       "        text-align: right;\n",
       "    }\n",
       "</style>\n",
       "<table border=\"1\" class=\"dataframe\">\n",
       "  <thead>\n",
       "    <tr style=\"text-align: right;\">\n",
       "      <th></th>\n",
       "      <th>AGER_TYP</th>\n",
       "      <th>GEBURTSJAHR</th>\n",
       "      <th>TITEL_KZ</th>\n",
       "      <th>ALTER_HH</th>\n",
       "      <th>KK_KUNDENTYP</th>\n",
       "      <th>KBA05_BAUMAX</th>\n",
       "    </tr>\n",
       "  </thead>\n",
       "  <tbody>\n",
       "    <tr>\n",
       "      <th>0</th>\n",
       "      <td>NaN</td>\n",
       "      <td>NaN</td>\n",
       "      <td>NaN</td>\n",
       "      <td>NaN</td>\n",
       "      <td>NaN</td>\n",
       "      <td>NaN</td>\n",
       "    </tr>\n",
       "    <tr>\n",
       "      <th>1</th>\n",
       "      <td>NaN</td>\n",
       "      <td>1996.0</td>\n",
       "      <td>NaN</td>\n",
       "      <td>NaN</td>\n",
       "      <td>NaN</td>\n",
       "      <td>5.0</td>\n",
       "    </tr>\n",
       "    <tr>\n",
       "      <th>2</th>\n",
       "      <td>NaN</td>\n",
       "      <td>1979.0</td>\n",
       "      <td>NaN</td>\n",
       "      <td>17.0</td>\n",
       "      <td>NaN</td>\n",
       "      <td>NaN</td>\n",
       "    </tr>\n",
       "    <tr>\n",
       "      <th>3</th>\n",
       "      <td>2.0</td>\n",
       "      <td>1957.0</td>\n",
       "      <td>NaN</td>\n",
       "      <td>13.0</td>\n",
       "      <td>NaN</td>\n",
       "      <td>1.0</td>\n",
       "    </tr>\n",
       "    <tr>\n",
       "      <th>4</th>\n",
       "      <td>NaN</td>\n",
       "      <td>1963.0</td>\n",
       "      <td>NaN</td>\n",
       "      <td>20.0</td>\n",
       "      <td>1.0</td>\n",
       "      <td>NaN</td>\n",
       "    </tr>\n",
       "    <tr>\n",
       "      <th>...</th>\n",
       "      <td>...</td>\n",
       "      <td>...</td>\n",
       "      <td>...</td>\n",
       "      <td>...</td>\n",
       "      <td>...</td>\n",
       "      <td>...</td>\n",
       "    </tr>\n",
       "    <tr>\n",
       "      <th>891216</th>\n",
       "      <td>NaN</td>\n",
       "      <td>1976.0</td>\n",
       "      <td>NaN</td>\n",
       "      <td>17.0</td>\n",
       "      <td>3.0</td>\n",
       "      <td>NaN</td>\n",
       "    </tr>\n",
       "    <tr>\n",
       "      <th>891217</th>\n",
       "      <td>NaN</td>\n",
       "      <td>1970.0</td>\n",
       "      <td>NaN</td>\n",
       "      <td>16.0</td>\n",
       "      <td>NaN</td>\n",
       "      <td>5.0</td>\n",
       "    </tr>\n",
       "    <tr>\n",
       "      <th>891218</th>\n",
       "      <td>NaN</td>\n",
       "      <td>1976.0</td>\n",
       "      <td>NaN</td>\n",
       "      <td>17.0</td>\n",
       "      <td>NaN</td>\n",
       "      <td>NaN</td>\n",
       "    </tr>\n",
       "    <tr>\n",
       "      <th>891219</th>\n",
       "      <td>NaN</td>\n",
       "      <td>1994.0</td>\n",
       "      <td>NaN</td>\n",
       "      <td>NaN</td>\n",
       "      <td>NaN</td>\n",
       "      <td>NaN</td>\n",
       "    </tr>\n",
       "    <tr>\n",
       "      <th>891220</th>\n",
       "      <td>NaN</td>\n",
       "      <td>NaN</td>\n",
       "      <td>NaN</td>\n",
       "      <td>NaN</td>\n",
       "      <td>NaN</td>\n",
       "      <td>NaN</td>\n",
       "    </tr>\n",
       "  </tbody>\n",
       "</table>\n",
       "<p>891221 rows × 6 columns</p>\n",
       "</div>"
      ],
      "text/plain": [
       "        AGER_TYP  GEBURTSJAHR  TITEL_KZ  ALTER_HH  KK_KUNDENTYP  KBA05_BAUMAX\n",
       "0            NaN          NaN       NaN       NaN           NaN           NaN\n",
       "1            NaN       1996.0       NaN       NaN           NaN           5.0\n",
       "2            NaN       1979.0       NaN      17.0           NaN           NaN\n",
       "3            2.0       1957.0       NaN      13.0           NaN           1.0\n",
       "4            NaN       1963.0       NaN      20.0           1.0           NaN\n",
       "...          ...          ...       ...       ...           ...           ...\n",
       "891216       NaN       1976.0       NaN      17.0           3.0           NaN\n",
       "891217       NaN       1970.0       NaN      16.0           NaN           5.0\n",
       "891218       NaN       1976.0       NaN      17.0           NaN           NaN\n",
       "891219       NaN       1994.0       NaN       NaN           NaN           NaN\n",
       "891220       NaN          NaN       NaN       NaN           NaN           NaN\n",
       "\n",
       "[891221 rows x 6 columns]"
      ]
     },
     "execution_count": 25,
     "metadata": {},
     "output_type": "execute_result"
    }
   ],
   "source": [
    "azdias[miss_data]"
   ]
  },
  {
   "cell_type": "code",
   "execution_count": 26,
   "metadata": {},
   "outputs": [
    {
     "data": {
      "text/html": [
       "<div>\n",
       "<style scoped>\n",
       "    .dataframe tbody tr th:only-of-type {\n",
       "        vertical-align: middle;\n",
       "    }\n",
       "\n",
       "    .dataframe tbody tr th {\n",
       "        vertical-align: top;\n",
       "    }\n",
       "\n",
       "    .dataframe thead th {\n",
       "        text-align: right;\n",
       "    }\n",
       "</style>\n",
       "<table border=\"1\" class=\"dataframe\">\n",
       "  <thead>\n",
       "    <tr style=\"text-align: right;\">\n",
       "      <th></th>\n",
       "      <th>AGER_TYP</th>\n",
       "      <th>GEBURTSJAHR</th>\n",
       "      <th>TITEL_KZ</th>\n",
       "      <th>ALTER_HH</th>\n",
       "      <th>KK_KUNDENTYP</th>\n",
       "      <th>KBA05_BAUMAX</th>\n",
       "    </tr>\n",
       "  </thead>\n",
       "  <tbody>\n",
       "    <tr>\n",
       "      <th>count</th>\n",
       "      <td>205378.000000</td>\n",
       "      <td>498903.000000</td>\n",
       "      <td>2160.000000</td>\n",
       "      <td>580954.000000</td>\n",
       "      <td>306609.000000</td>\n",
       "      <td>414697.000000</td>\n",
       "    </tr>\n",
       "    <tr>\n",
       "      <th>mean</th>\n",
       "      <td>1.743410</td>\n",
       "      <td>1967.102689</td>\n",
       "      <td>1.318519</td>\n",
       "      <td>15.291805</td>\n",
       "      <td>3.410640</td>\n",
       "      <td>2.539534</td>\n",
       "    </tr>\n",
       "    <tr>\n",
       "      <th>std</th>\n",
       "      <td>0.674312</td>\n",
       "      <td>17.795208</td>\n",
       "      <td>0.999504</td>\n",
       "      <td>3.800536</td>\n",
       "      <td>1.628844</td>\n",
       "      <td>1.693151</td>\n",
       "    </tr>\n",
       "    <tr>\n",
       "      <th>min</th>\n",
       "      <td>1.000000</td>\n",
       "      <td>1900.000000</td>\n",
       "      <td>1.000000</td>\n",
       "      <td>1.000000</td>\n",
       "      <td>1.000000</td>\n",
       "      <td>1.000000</td>\n",
       "    </tr>\n",
       "    <tr>\n",
       "      <th>25%</th>\n",
       "      <td>1.000000</td>\n",
       "      <td>1955.000000</td>\n",
       "      <td>1.000000</td>\n",
       "      <td>13.000000</td>\n",
       "      <td>2.000000</td>\n",
       "      <td>1.000000</td>\n",
       "    </tr>\n",
       "    <tr>\n",
       "      <th>50%</th>\n",
       "      <td>2.000000</td>\n",
       "      <td>1968.000000</td>\n",
       "      <td>1.000000</td>\n",
       "      <td>16.000000</td>\n",
       "      <td>3.000000</td>\n",
       "      <td>1.000000</td>\n",
       "    </tr>\n",
       "    <tr>\n",
       "      <th>75%</th>\n",
       "      <td>2.000000</td>\n",
       "      <td>1981.000000</td>\n",
       "      <td>1.000000</td>\n",
       "      <td>18.000000</td>\n",
       "      <td>5.000000</td>\n",
       "      <td>4.000000</td>\n",
       "    </tr>\n",
       "    <tr>\n",
       "      <th>max</th>\n",
       "      <td>3.000000</td>\n",
       "      <td>2017.000000</td>\n",
       "      <td>5.000000</td>\n",
       "      <td>21.000000</td>\n",
       "      <td>6.000000</td>\n",
       "      <td>5.000000</td>\n",
       "    </tr>\n",
       "  </tbody>\n",
       "</table>\n",
       "</div>"
      ],
      "text/plain": [
       "            AGER_TYP    GEBURTSJAHR     TITEL_KZ       ALTER_HH  \\\n",
       "count  205378.000000  498903.000000  2160.000000  580954.000000   \n",
       "mean        1.743410    1967.102689     1.318519      15.291805   \n",
       "std         0.674312      17.795208     0.999504       3.800536   \n",
       "min         1.000000    1900.000000     1.000000       1.000000   \n",
       "25%         1.000000    1955.000000     1.000000      13.000000   \n",
       "50%         2.000000    1968.000000     1.000000      16.000000   \n",
       "75%         2.000000    1981.000000     1.000000      18.000000   \n",
       "max         3.000000    2017.000000     5.000000      21.000000   \n",
       "\n",
       "        KK_KUNDENTYP   KBA05_BAUMAX  \n",
       "count  306609.000000  414697.000000  \n",
       "mean        3.410640       2.539534  \n",
       "std         1.628844       1.693151  \n",
       "min         1.000000       1.000000  \n",
       "25%         2.000000       1.000000  \n",
       "50%         3.000000       1.000000  \n",
       "75%         5.000000       4.000000  \n",
       "max         6.000000       5.000000  "
      ]
     },
     "execution_count": 26,
     "metadata": {},
     "output_type": "execute_result"
    }
   ],
   "source": [
    "azdias[miss_data].describe()"
   ]
  },
  {
   "cell_type": "code",
   "execution_count": 291,
   "metadata": {},
   "outputs": [],
   "source": [
    "# Remove the outlier columns from the dataset. (You'll perform other data\n",
    "# engineering tasks such as re-encoding and imputation later.)\n",
    "\n",
    "azdias.drop(miss_data, axis=1, inplace=True)"
   ]
  },
  {
   "cell_type": "markdown",
   "metadata": {},
   "source": [
    "#### Assess Missing Data in Each Column\n",
    "\n",
    "I looked at the mean and sums of each of the columns in the dataset to see if there were any that were missing a lot of data and why that could be. I found six columns that were missing over 20% of their data and over 200,000 values. Those columns and their descriptions from the data dictionary were:\n",
    "\n",
    "- AGER_TYP: Age Typology\n",
    "- GEBURTSJAHR: Year of Birth\n",
    "- TITEL_KZ: Academic Title\n",
    "- ALTER_HH: Birthdate of Head of Household\n",
    "- KK_KUNDENTYP: Consumer Pattern Last 12 Months\n",
    "- KBA05_BAUMAX: Most Common Building Type Within the Microcell\n",
    "\n",
    "Consumer pattern could be helpful if all the data was there but with so much missing it won't do me much good. The rest of the columns I should be fine without. \n",
    "\n"
   ]
  },
  {
   "cell_type": "markdown",
   "metadata": {},
   "source": [
    "#### Step 1.1.3: Assess Missing Data in Each Row\n",
    "\n"
   ]
  },
  {
   "cell_type": "code",
   "execution_count": 293,
   "metadata": {},
   "outputs": [
    {
     "data": {
      "text/plain": [
       "0         0.544304\n",
       "3         0.088608\n",
       "11        0.594937\n",
       "12        0.075949\n",
       "13        0.101266\n",
       "            ...   \n",
       "891203    0.177215\n",
       "891208    0.037975\n",
       "891216    0.037975\n",
       "891217    0.050633\n",
       "891218    0.063291\n",
       "Length: 268012, dtype: float64"
      ]
     },
     "execution_count": 293,
     "metadata": {},
     "output_type": "execute_result"
    }
   ],
   "source": [
    "# How much data is missing in each row of the dataset?\n",
    "azdias.isna().mean(axis = 1)"
   ]
  },
  {
   "cell_type": "code",
   "execution_count": 294,
   "metadata": {},
   "outputs": [],
   "source": [
    "# # How much data is missing in each row of the dataset?\n",
    "\n",
    "# for index in range(len(azdias)):\n",
    "#     missing_percent = round(azdias.iloc[index].isna().mean(), 4) * 100\n",
    "#     print(\"Missing percentage in row {} is: {}%\".format(index, missing_percent))"
   ]
  },
  {
   "cell_type": "code",
   "execution_count": 102,
   "metadata": {},
   "outputs": [],
   "source": [
    "# get how much data would be cut out based on different thresholds\n",
    "\n",
    "perc_missing = [.1, .2, .3, .4, .5, .6]\n",
    "sum_missing = []\n",
    "\n",
    "for perc in perc_missing:\n",
    "    total = sum(azdias.isna().mean(axis=1) > perc)\n",
    "    sum_missing.append(total)"
   ]
  },
  {
   "cell_type": "code",
   "execution_count": 106,
   "metadata": {},
   "outputs": [
    {
     "data": {
      "text/plain": [
       "<matplotlib.collections.PathCollection at 0x7fc26de74fd0>"
      ]
     },
     "execution_count": 106,
     "metadata": {},
     "output_type": "execute_result"
    },
    {
     "data": {
      "image/png": "[encoded data removed]",
      "text/plain": [
       "<matplotlib.figure.Figure at 0x7fc26e008240>"
      ]
     },
     "metadata": {
      "needs_background": "light"
     },
     "output_type": "display_data"
    }
   ],
   "source": [
    "# checking to see what threshold makes the most sense\n",
    "\n",
    "plt.scatter(perc_missing, sum_missing)"
   ]
  },
  {
   "cell_type": "code",
   "execution_count": 28,
   "metadata": {},
   "outputs": [],
   "source": [
    "# creating list of indexes for rows that are missing more than 20% of it's data\n",
    "\n",
    "above = [index for index in range(len(azdias)) if azdias.iloc[index].isnull().mean() > .2]"
   ]
  },
  {
   "cell_type": "code",
   "execution_count": 29,
   "metadata": {},
   "outputs": [],
   "source": [
    "# creating list of indexes for rows that are missing less than 20% of it's data\n",
    "\n",
    "below = [index for index in range(len(azdias)) if azdias.iloc[index].isnull().mean() < .2]"
   ]
  },
  {
   "cell_type": "code",
   "execution_count": 30,
   "metadata": {},
   "outputs": [],
   "source": [
    "# drop and create the subsets for above and below 20% of missing data\n",
    "\n",
    "azdias_full = azdias.drop(above)\n",
    "azdias_empty = azdias.drop(below)"
   ]
  },
  {
   "cell_type": "code",
   "execution_count": 31,
   "metadata": {
    "scrolled": true
   },
   "outputs": [
    {
     "name": "stdout",
     "output_type": "stream",
     "text": [
      "<class 'pandas.core.frame.DataFrame'>\n",
      "Int64Index: 792287 entries, 1 to 891220\n",
      "Data columns (total 79 columns):\n",
      " #   Column                 Non-Null Count   Dtype  \n",
      "---  ------                 --------------   -----  \n",
      " 0   ALTERSKATEGORIE_GROB   789547 non-null  float64\n",
      " 1   ANREDE_KZ              792287 non-null  int64  \n",
      " 2   CJT_GESAMTTYP          787919 non-null  float64\n",
      " 3   FINANZ_MINIMALIST      792287 non-null  int64  \n",
      " 4   FINANZ_SPARER          792287 non-null  int64  \n",
      " 5   FINANZ_VORSORGER       792287 non-null  int64  \n",
      " 6   FINANZ_ANLEGER         792287 non-null  int64  \n",
      " 7   FINANZ_UNAUFFAELLIGER  792287 non-null  int64  \n",
      " 8   FINANZ_HAUSBAUER       792287 non-null  int64  \n",
      " 9   FINANZTYP              792287 non-null  int64  \n",
      " 10  GFK_URLAUBERTYP        787919 non-null  float64\n",
      " 11  GREEN_AVANTGARDE       792287 non-null  int64  \n",
      " 12  HEALTH_TYP             756432 non-null  float64\n",
      " 13  LP_LEBENSPHASE_FEIN    743486 non-null  float64\n",
      " 14  LP_LEBENSPHASE_GROB    746286 non-null  float64\n",
      " 15  LP_FAMILIE_FEIN        761776 non-null  float64\n",
      " 16  LP_FAMILIE_GROB        761776 non-null  float64\n",
      " 17  LP_STATUS_FEIN         787919 non-null  float64\n",
      " 18  LP_STATUS_GROB         787919 non-null  float64\n",
      " 19  NATIONALITAET_KZ       759172 non-null  float64\n",
      " 20  PRAEGENDE_JUGENDJAHRE  764672 non-null  float64\n",
      " 21  RETOURTYP_BK_S         787919 non-null  float64\n",
      " 22  SEMIO_SOZ              792287 non-null  int64  \n",
      " 23  SEMIO_FAM              792287 non-null  int64  \n",
      " 24  SEMIO_REL              792287 non-null  int64  \n",
      " 25  SEMIO_MAT              792287 non-null  int64  \n",
      " 26  SEMIO_VERT             792287 non-null  int64  \n",
      " 27  SEMIO_LUST             792287 non-null  int64  \n",
      " 28  SEMIO_ERL              792287 non-null  int64  \n",
      " 29  SEMIO_KULT             792287 non-null  int64  \n",
      " 30  SEMIO_RAT              792287 non-null  int64  \n",
      " 31  SEMIO_KRIT             792287 non-null  int64  \n",
      " 32  SEMIO_DOM              792287 non-null  int64  \n",
      " 33  SEMIO_KAEM             792287 non-null  int64  \n",
      " 34  SEMIO_PFLICHT          792287 non-null  int64  \n",
      " 35  SEMIO_TRADV            792287 non-null  int64  \n",
      " 36  SHOPPER_TYP            756432 non-null  float64\n",
      " 37  SOHO_KZ                792287 non-null  float64\n",
      " 38  VERS_TYP               756432 non-null  float64\n",
      " 39  ZABEOTYP               792287 non-null  int64  \n",
      " 40  ANZ_PERSONEN           792287 non-null  float64\n",
      " 41  ANZ_TITEL              792287 non-null  float64\n",
      " 42  HH_EINKOMMEN_SCORE     792287 non-null  float64\n",
      " 43  W_KEIT_KIND_HH         734238 non-null  float64\n",
      " 44  WOHNDAUER_2008         792287 non-null  float64\n",
      " 45  ANZ_HAUSHALTE_AKTIV    786107 non-null  float64\n",
      " 46  ANZ_HH_TITEL           788689 non-null  float64\n",
      " 47  GEBAEUDETYP            792287 non-null  float64\n",
      " 48  KONSUMNAEHE            792231 non-null  float64\n",
      " 49  MIN_GEBAEUDEJAHR       792287 non-null  float64\n",
      " 50  OST_WEST_KZ            792287 non-null  object \n",
      " 51  WOHNLAGE               792287 non-null  float64\n",
      " 52  CAMEO_DEUG_2015        787971 non-null  object \n",
      " 53  CAMEO_DEU_2015         787971 non-null  object \n",
      " 54  CAMEO_INTL_2015        787971 non-null  object \n",
      " 55  KBA05_ANTG1            757624 non-null  float64\n",
      " 56  KBA05_ANTG2            757624 non-null  float64\n",
      " 57  KBA05_ANTG3            757624 non-null  float64\n",
      " 58  KBA05_ANTG4            757624 non-null  float64\n",
      " 59  KBA05_GBZ              757624 non-null  float64\n",
      " 60  BALLRAUM               791718 non-null  float64\n",
      " 61  EWDICHTE               791718 non-null  float64\n",
      " 62  INNENSTADT             791718 non-null  float64\n",
      " 63  GEBAEUDETYP_RASTER     792282 non-null  float64\n",
      " 64  KKK                    731921 non-null  float64\n",
      " 65  MOBI_REGIO             757624 non-null  float64\n",
      " 66  ONLINE_AFFINITAET      787919 non-null  float64\n",
      " 67  REGIOTYP               731921 non-null  float64\n",
      " 68  KBA13_ANZAHL_PKW       783910 non-null  float64\n",
      " 69  PLZ8_ANTG1             774334 non-null  float64\n",
      " 70  PLZ8_ANTG2             774334 non-null  float64\n",
      " 71  PLZ8_ANTG3             774334 non-null  float64\n",
      " 72  PLZ8_ANTG4             774334 non-null  float64\n",
      " 73  PLZ8_BAUMAX            774334 non-null  float64\n",
      " 74  PLZ8_HHZ               774334 non-null  float64\n",
      " 75  PLZ8_GBZ               774334 non-null  float64\n",
      " 76  ARBEIT                 788122 non-null  float64\n",
      " 77  ORTSGR_KLS9            788216 non-null  float64\n",
      " 78  RELAT_AB               788122 non-null  float64\n",
      "dtypes: float64(51), int64(24), object(4)\n",
      "memory usage: 483.6+ MB\n"
     ]
    }
   ],
   "source": [
    "azdias_full.info()"
   ]
  },
  {
   "cell_type": "code",
   "execution_count": 32,
   "metadata": {
    "scrolled": true
   },
   "outputs": [
    {
     "name": "stdout",
     "output_type": "stream",
     "text": [
      "<class 'pandas.core.frame.DataFrame'>\n",
      "Int64Index: 98934 entries, 0 to 891187\n",
      "Data columns (total 79 columns):\n",
      " #   Column                 Non-Null Count  Dtype  \n",
      "---  ------                 --------------  -----  \n",
      " 0   ALTERSKATEGORIE_GROB   98793 non-null  float64\n",
      " 1   ANREDE_KZ              98934 non-null  int64  \n",
      " 2   CJT_GESAMTTYP          98448 non-null  float64\n",
      " 3   FINANZ_MINIMALIST      98934 non-null  int64  \n",
      " 4   FINANZ_SPARER          98934 non-null  int64  \n",
      " 5   FINANZ_VORSORGER       98934 non-null  int64  \n",
      " 6   FINANZ_ANLEGER         98934 non-null  int64  \n",
      " 7   FINANZ_UNAUFFAELLIGER  98934 non-null  int64  \n",
      " 8   FINANZ_HAUSBAUER       98934 non-null  int64  \n",
      " 9   FINANZTYP              98934 non-null  int64  \n",
      " 10  GFK_URLAUBERTYP        98448 non-null  float64\n",
      " 11  GREEN_AVANTGARDE       98934 non-null  int64  \n",
      " 12  HEALTH_TYP             23593 non-null  float64\n",
      " 13  LP_LEBENSPHASE_FEIN    50103 non-null  float64\n",
      " 14  LP_LEBENSPHASE_GROB    50363 non-null  float64\n",
      " 15  LP_FAMILIE_FEIN        51653 non-null  float64\n",
      " 16  LP_FAMILIE_GROB        51653 non-null  float64\n",
      " 17  LP_STATUS_FEIN         98448 non-null  float64\n",
      " 18  LP_STATUS_GROB         98448 non-null  float64\n",
      " 19  NATIONALITAET_KZ       23734 non-null  float64\n",
      " 20  PRAEGENDE_JUGENDJAHRE  18385 non-null  float64\n",
      " 21  RETOURTYP_BK_S         98448 non-null  float64\n",
      " 22  SEMIO_SOZ              98934 non-null  int64  \n",
      " 23  SEMIO_FAM              98934 non-null  int64  \n",
      " 24  SEMIO_REL              98934 non-null  int64  \n",
      " 25  SEMIO_MAT              98934 non-null  int64  \n",
      " 26  SEMIO_VERT             98934 non-null  int64  \n",
      " 27  SEMIO_LUST             98934 non-null  int64  \n",
      " 28  SEMIO_ERL              98934 non-null  int64  \n",
      " 29  SEMIO_KULT             98934 non-null  int64  \n",
      " 30  SEMIO_RAT              98934 non-null  int64  \n",
      " 31  SEMIO_KRIT             98934 non-null  int64  \n",
      " 32  SEMIO_DOM              98934 non-null  int64  \n",
      " 33  SEMIO_KAEM             98934 non-null  int64  \n",
      " 34  SEMIO_PFLICHT          98934 non-null  int64  \n",
      " 35  SEMIO_TRADV            98934 non-null  int64  \n",
      " 36  SHOPPER_TYP            23593 non-null  float64\n",
      " 37  SOHO_KZ                25435 non-null  float64\n",
      " 38  VERS_TYP               23593 non-null  float64\n",
      " 39  ZABEOTYP               98934 non-null  int64  \n",
      " 40  ANZ_PERSONEN           25435 non-null  float64\n",
      " 41  ANZ_TITEL              25435 non-null  float64\n",
      " 42  HH_EINKOMMEN_SCORE     80586 non-null  float64\n",
      " 43  W_KEIT_KIND_HH         8995 non-null   float64\n",
      " 44  WOHNDAUER_2008         25435 non-null  float64\n",
      " 45  ANZ_HAUSHALTE_AKTIV    5503 non-null   float64\n",
      " 46  ANZ_HH_TITEL           5524 non-null   float64\n",
      " 47  GEBAEUDETYP            5786 non-null   float64\n",
      " 48  KONSUMNAEHE            25021 non-null  float64\n",
      " 49  MIN_GEBAEUDEJAHR       5786 non-null   float64\n",
      " 50  OST_WEST_KZ            5786 non-null   object \n",
      " 51  WOHNLAGE               5786 non-null   float64\n",
      " 52  CAMEO_DEUG_2015        3898 non-null   object \n",
      " 53  CAMEO_DEU_2015         3898 non-null   object \n",
      " 54  CAMEO_INTL_2015        3898 non-null   object \n",
      " 55  KBA05_ANTG1            273 non-null    float64\n",
      " 56  KBA05_ANTG2            273 non-null    float64\n",
      " 57  KBA05_ANTG3            273 non-null    float64\n",
      " 58  KBA05_ANTG4            273 non-null    float64\n",
      " 59  KBA05_GBZ              273 non-null    float64\n",
      " 60  BALLRAUM               5763 non-null   float64\n",
      " 61  EWDICHTE               5763 non-null   float64\n",
      " 62  INNENSTADT             5763 non-null   float64\n",
      " 63  GEBAEUDETYP_RASTER     5784 non-null   float64\n",
      " 64  KKK                    1236 non-null   float64\n",
      " 65  MOBI_REGIO             273 non-null    float64\n",
      " 66  ONLINE_AFFINITAET      98448 non-null  float64\n",
      " 67  REGIOTYP               1236 non-null   float64\n",
      " 68  KBA13_ANZAHL_PKW       1511 non-null   float64\n",
      " 69  PLZ8_ANTG1             372 non-null    float64\n",
      " 70  PLZ8_ANTG2             372 non-null    float64\n",
      " 71  PLZ8_ANTG3             372 non-null    float64\n",
      " 72  PLZ8_ANTG4             372 non-null    float64\n",
      " 73  PLZ8_BAUMAX            372 non-null    float64\n",
      " 74  PLZ8_HHZ               372 non-null    float64\n",
      " 75  PLZ8_GBZ               372 non-null    float64\n",
      " 76  ARBEIT                 5724 non-null   float64\n",
      " 77  ORTSGR_KLS9            5731 non-null   float64\n",
      " 78  RELAT_AB               5724 non-null   float64\n",
      "dtypes: float64(51), int64(24), object(4)\n",
      "memory usage: 60.4+ MB\n"
     ]
    }
   ],
   "source": [
    "azdias_empty.info()"
   ]
  },
  {
   "cell_type": "code",
   "execution_count": 39,
   "metadata": {
    "scrolled": true
   },
   "outputs": [],
   "source": [
    "def show_value_distribution(column):\n",
    "    \n",
    "    '''\n",
    "    Shows distribution of code frequencies of column between the two different dataframes. One that has considerable\n",
    "    missing data (more than 20%) per row and one that has almost all the data available.\n",
    "    \n",
    "    input:\n",
    "    column - string: column that you want to compare.\n",
    "    output:\n",
    "    seaborn countplot of the columns\n",
    "    '''\n",
    "\n",
    "    fig, axes = plt.subplots(1, 2, figsize=(15, 5))\n",
    "    fig.suptitle(\"Value Distribution Comparisions\")\n",
    "\n",
    "    sns.countplot(x = azdias_full[column], ax = axes[0])\n",
    "    axes[0].set_title(\"Missing Little to No Data\")\n",
    "    sns.countplot(x = azdias_empty[column], ax = axes[1])\n",
    "    axes[1].set_title(\"Missing Significant Data\");"
   ]
  },
  {
   "cell_type": "code",
   "execution_count": 40,
   "metadata": {
    "scrolled": true
   },
   "outputs": [
    {
     "data": {
      "image/png": "[encoded data removed]",
      "text/plain": [
       "<Figure size 1080x360 with 2 Axes>"
      ]
     },
     "metadata": {
      "needs_background": "light"
     },
     "output_type": "display_data"
    }
   ],
   "source": [
    "show_value_distribution('HEALTH_TYP')"
   ]
  },
  {
   "cell_type": "code",
   "execution_count": 42,
   "metadata": {},
   "outputs": [
    {
     "data": {
      "image/png": "[encoded data removed]",
      "text/plain": [
       "<Figure size 1080x360 with 2 Axes>"
      ]
     },
     "metadata": {
      "needs_background": "light"
     },
     "output_type": "display_data"
    }
   ],
   "source": [
    "show_value_distribution('LP_FAMILIE_GROB')"
   ]
  },
  {
   "cell_type": "code",
   "execution_count": 43,
   "metadata": {
    "scrolled": true
   },
   "outputs": [
    {
     "data": {
      "image/png": "[encoded data removed]",
      "text/plain": [
       "<Figure size 1080x360 with 2 Axes>"
      ]
     },
     "metadata": {
      "needs_background": "light"
     },
     "output_type": "display_data"
    }
   ],
   "source": [
    "show_value_distribution('REGIOTYP')"
   ]
  },
  {
   "cell_type": "code",
   "execution_count": 44,
   "metadata": {},
   "outputs": [
    {
     "data": {
      "image/png": "[encoded data removed]",
      "text/plain": [
       "<Figure size 1080x360 with 2 Axes>"
      ]
     },
     "metadata": {
      "needs_background": "light"
     },
     "output_type": "display_data"
    }
   ],
   "source": [
    "show_value_distribution('EWDICHTE')"
   ]
  },
  {
   "cell_type": "code",
   "execution_count": 45,
   "metadata": {},
   "outputs": [
    {
     "data": {
      "image/png": "[encoded data removed]",
      "text/plain": [
       "<Figure size 1080x360 with 2 Axes>"
      ]
     },
     "metadata": {
      "needs_background": "light"
     },
     "output_type": "display_data"
    }
   ],
   "source": [
    "show_value_distribution('BALLRAUM')"
   ]
  },
  {
   "cell_type": "markdown",
   "metadata": {},
   "source": [
    "#### Assess Missing Data in Each Row\n",
    "\n",
    "Looking at what was missing from each row visually would be far too time consuming even after printing out everything that was missing for each line, so I created a graph that increased the allowed percentage of data by 10% each time to see if I could find a point where I could create a reasonable threshold. Sort of like finding the elbow point with K means I found that allowing for 20% of missing data in a row was reasonable. 10% cut out too much data and then allowing rows with 60% of missing data was just too much. You can see in the graph above that it evens out from 20 to 50% before another big drop off at 60%. \n",
    "\n",
    "Once the data was split I found that looking at the distributions of values between my full data set and the data set that had a large amount of missing data (empty) I didn't see much difference in distributions between the five randomly chosen columns. The one column that was slightly off between the two datasets was the HEALTH_TYP column where the number of 3 values were significantly higher in the full data set as opposed to the empty data set. Despite that, I believe I'd be safe in just dropping the rows that are misssing more than 20% of the data based on the distribution in the columns I checked. "
   ]
  },
  {
   "cell_type": "code",
   "execution_count": 47,
   "metadata": {
    "scrolled": true
   },
   "outputs": [
    {
     "data": {
      "text/plain": [
       "ordinal        49\n",
       "categorical    21\n",
       "numeric         7\n",
       "mixed           7\n",
       "interval        1\n",
       "Name: type, dtype: int64"
      ]
     },
     "execution_count": 47,
     "metadata": {},
     "output_type": "execute_result"
    }
   ],
   "source": [
    "# How many features are there of each data type?\n",
    "feat_info.type.value_counts()"
   ]
  },
  {
   "cell_type": "markdown",
   "metadata": {},
   "source": [
    "**I would prefer to have a features info summary dataframe that only has the same columns as the Azdias dataframe I dropped colums from so I'm going to create a new one so that I can go through this next section without columns that aren't in the actual dataset.**"
   ]
  },
  {
   "cell_type": "code",
   "execution_count": 49,
   "metadata": {},
   "outputs": [
    {
     "data": {
      "text/plain": [
       "['AGER_TYP',\n",
       " 'GEBURTSJAHR',\n",
       " 'TITEL_KZ',\n",
       " 'ALTER_HH',\n",
       " 'KK_KUNDENTYP',\n",
       " 'KBA05_BAUMAX']"
      ]
     },
     "execution_count": 49,
     "metadata": {},
     "output_type": "execute_result"
    }
   ],
   "source": [
    "# check columns I dropped earlier\n",
    "miss_data"
   ]
  },
  {
   "cell_type": "code",
   "execution_count": 50,
   "metadata": {},
   "outputs": [],
   "source": [
    "# create list of indexes to drop from feat_info\n",
    "drop_index = []\n",
    "\n",
    "for index in range(len(feat_info)):\n",
    "    if feat_info['attribute'][index] in miss_data:\n",
    "        drop_index.append(index)"
   ]
  },
  {
   "cell_type": "code",
   "execution_count": 51,
   "metadata": {},
   "outputs": [],
   "source": [
    "feat_info_full = feat_info.drop(drop_index)"
   ]
  },
  {
   "cell_type": "markdown",
   "metadata": {},
   "source": [
    "####  Re-Encode Categorical Features\n",
    "\n"
   ]
  },
  {
   "cell_type": "code",
   "execution_count": 55,
   "metadata": {},
   "outputs": [],
   "source": [
    "# Assess categorical variables: which are binary, which are multi-level, and\n",
    "# which one needs to be re-encoded?\n",
    "feat_cats = feat_info_full.query(\"type == 'categorical'\")\n",
    "feat_cats.reset_index(drop=True, inplace=True)"
   ]
  },
  {
   "cell_type": "code",
   "execution_count": 56,
   "metadata": {},
   "outputs": [
    {
     "name": "stdout",
     "output_type": "stream",
     "text": [
      "Column: ANREDE_KZ, Variables: [2 1]\n",
      "Column: CJT_GESAMTTYP, Variables: [ 5.  3.  2.  4.  1.  6. nan]\n",
      "Column: FINANZTYP, Variables: [1 6 5 2 4 3]\n",
      "Column: GFK_URLAUBERTYP, Variables: [10.  1.  5. 12.  9.  3.  8. 11.  4.  7.  2.  6. nan]\n",
      "Column: GREEN_AVANTGARDE, Variables: [0 1]\n",
      "Column: LP_FAMILIE_FEIN, Variables: [ 5.  1. nan 10.  2.  7. 11.  8.  4.  6.  9.  3.]\n",
      "Column: LP_FAMILIE_GROB, Variables: [ 3.  1. nan  5.  2.  4.]\n",
      "Column: LP_STATUS_FEIN, Variables: [ 2.  3.  9.  4.  1. 10.  5.  8.  6.  7. nan]\n",
      "Column: LP_STATUS_GROB, Variables: [ 1.  2.  4.  5.  3. nan]\n",
      "Column: NATIONALITAET_KZ, Variables: [ 1.  3.  2. nan]\n",
      "Column: SHOPPER_TYP, Variables: [ 3.  2.  1.  0. nan]\n",
      "Column: SOHO_KZ, Variables: [1. 0.]\n",
      "Column: VERS_TYP, Variables: [ 2.  1. nan]\n",
      "Column: ZABEOTYP, Variables: [5 3 4 1 6 2]\n",
      "Column: GEBAEUDETYP, Variables: [8. 1. 3. 2. 6. 4. 5.]\n",
      "Column: OST_WEST_KZ, Variables: ['W' 'O']\n",
      "Column: CAMEO_DEUG_2015, Variables: ['8' '4' '2' '6' '1' '9' '5' '7' '3' nan]\n",
      "Column: CAMEO_DEU_2015, Variables: ['8A' '4C' '2A' '6B' '8C' '4A' '2D' '1A' '1E' '9D' '5C' '8B' '7A' '5D'\n",
      " '9E' '9B' '1B' '3D' nan '4E' '4B' '3C' '5A' '7B' '9A' '6D' '6E' '2C' '7C'\n",
      " '9C' '7D' '5E' '1D' '8D' '6C' '6A' '5B' '4D' '3A' '2B' '7E' '3B' '6F'\n",
      " '5F' '1C']\n"
     ]
    }
   ],
   "source": [
    "for index in range(len(feat_cats)):\n",
    "    col_name = feat_cats['attribute'][index]\n",
    "    print(\"Column: {}, Variables: {}\".format(col_name, azdias_full[col_name].unique()))"
   ]
  },
  {
   "cell_type": "code",
   "execution_count": 57,
   "metadata": {},
   "outputs": [],
   "source": [
    "# Mapping OST_WEST_KZ column from 'W' and 'O' to 1 and 0. Will map W (West Germany) to 0 and O (East Germany) to 1\n",
    "azdias_full['OST_WEST_KZ'] = azdias_full['OST_WEST_KZ'].map({'W': 0, 'O': 1})\n"
   ]
  },
  {
   "cell_type": "code",
   "execution_count": 121,
   "metadata": {},
   "outputs": [],
   "source": [
    "# columns I plan on keeping\n",
    "keep_list = ['CJT_GESAMTTYP', 'LP_FAMILIE_FEIN', 'LP_STATUS_FEIN', 'SHOPPER_TYP', 'ZABEOTYP', 'CAMEO_DEUG_2015']"
   ]
  },
  {
   "cell_type": "code",
   "execution_count": 87,
   "metadata": {},
   "outputs": [],
   "source": [
    "def encode_columns(column_list, df):\n",
    "    \"\"\"\n",
    "    Takes in a list of columnn for dummy variable creation.\n",
    "    \n",
    "    Inupts\n",
    "    column_list - list: list of column names you want to encode with dummy variables\n",
    "    df - dataframe: dataframe that contains the column names you want to encode.\n",
    "    \n",
    "    Output\n",
    "    df - dataframe with newly encoded columns and dropped original columns.\n",
    "    \n",
    "    \"\"\"\n",
    "    \n",
    "    for col in column_list:\n",
    "        dummy_df = pd.get_dummies(azdias_full[col], prefix=col)\n",
    "        df = df.join(dummy_df)\n",
    "        df.drop(col, axis=1, inplace=True)\n",
    "        \n",
    "    return df\n",
    "    "
   ]
  },
  {
   "cell_type": "code",
   "execution_count": 122,
   "metadata": {},
   "outputs": [],
   "source": [
    "azdias_encoded = encode_columns(keep_list, azdias_full)"
   ]
  },
  {
   "cell_type": "code",
   "execution_count": 123,
   "metadata": {
    "scrolled": true
   },
   "outputs": [
    {
     "name": "stdout",
     "output_type": "stream",
     "text": [
      "<class 'pandas.core.frame.DataFrame'>\n",
      "Int64Index: 792287 entries, 1 to 891220\n",
      "Data columns (total 119 columns):\n",
      " #   Column                 Dtype  \n",
      "---  ------                 -----  \n",
      " 0   ALTERSKATEGORIE_GROB   float64\n",
      " 1   ANREDE_KZ              int64  \n",
      " 2   FINANZ_MINIMALIST      int64  \n",
      " 3   FINANZ_SPARER          int64  \n",
      " 4   FINANZ_VORSORGER       int64  \n",
      " 5   FINANZ_ANLEGER         int64  \n",
      " 6   FINANZ_UNAUFFAELLIGER  int64  \n",
      " 7   FINANZ_HAUSBAUER       int64  \n",
      " 8   FINANZTYP              int64  \n",
      " 9   GFK_URLAUBERTYP        float64\n",
      " 10  GREEN_AVANTGARDE       int64  \n",
      " 11  HEALTH_TYP             float64\n",
      " 12  LP_LEBENSPHASE_FEIN    float64\n",
      " 13  LP_LEBENSPHASE_GROB    float64\n",
      " 14  LP_FAMILIE_GROB        float64\n",
      " 15  LP_STATUS_GROB         float64\n",
      " 16  NATIONALITAET_KZ       float64\n",
      " 17  PRAEGENDE_JUGENDJAHRE  float64\n",
      " 18  RETOURTYP_BK_S         float64\n",
      " 19  SEMIO_SOZ              int64  \n",
      " 20  SEMIO_FAM              int64  \n",
      " 21  SEMIO_REL              int64  \n",
      " 22  SEMIO_MAT              int64  \n",
      " 23  SEMIO_VERT             int64  \n",
      " 24  SEMIO_LUST             int64  \n",
      " 25  SEMIO_ERL              int64  \n",
      " 26  SEMIO_KULT             int64  \n",
      " 27  SEMIO_RAT              int64  \n",
      " 28  SEMIO_KRIT             int64  \n",
      " 29  SEMIO_DOM              int64  \n",
      " 30  SEMIO_KAEM             int64  \n",
      " 31  SEMIO_PFLICHT          int64  \n",
      " 32  SEMIO_TRADV            int64  \n",
      " 33  SOHO_KZ                float64\n",
      " 34  VERS_TYP               float64\n",
      " 35  ANZ_PERSONEN           float64\n",
      " 36  ANZ_TITEL              float64\n",
      " 37  HH_EINKOMMEN_SCORE     float64\n",
      " 38  W_KEIT_KIND_HH         float64\n",
      " 39  WOHNDAUER_2008         float64\n",
      " 40  ANZ_HAUSHALTE_AKTIV    float64\n",
      " 41  ANZ_HH_TITEL           float64\n",
      " 42  GEBAEUDETYP            float64\n",
      " 43  KONSUMNAEHE            float64\n",
      " 44  MIN_GEBAEUDEJAHR       float64\n",
      " 45  OST_WEST_KZ            int64  \n",
      " 46  WOHNLAGE               float64\n",
      " 47  CAMEO_DEU_2015         object \n",
      " 48  CAMEO_INTL_2015        object \n",
      " 49  KBA05_ANTG1            float64\n",
      " 50  KBA05_ANTG2            float64\n",
      " 51  KBA05_ANTG3            float64\n",
      " 52  KBA05_ANTG4            float64\n",
      " 53  KBA05_GBZ              float64\n",
      " 54  BALLRAUM               float64\n",
      " 55  EWDICHTE               float64\n",
      " 56  INNENSTADT             float64\n",
      " 57  GEBAEUDETYP_RASTER     float64\n",
      " 58  KKK                    float64\n",
      " 59  MOBI_REGIO             float64\n",
      " 60  ONLINE_AFFINITAET      float64\n",
      " 61  REGIOTYP               float64\n",
      " 62  KBA13_ANZAHL_PKW       float64\n",
      " 63  PLZ8_ANTG1             float64\n",
      " 64  PLZ8_ANTG2             float64\n",
      " 65  PLZ8_ANTG3             float64\n",
      " 66  PLZ8_ANTG4             float64\n",
      " 67  PLZ8_BAUMAX            float64\n",
      " 68  PLZ8_HHZ               float64\n",
      " 69  PLZ8_GBZ               float64\n",
      " 70  ARBEIT                 float64\n",
      " 71  ORTSGR_KLS9            float64\n",
      " 72  RELAT_AB               float64\n",
      " 73  CJT_GESAMTTYP_1.0      uint8  \n",
      " 74  CJT_GESAMTTYP_2.0      uint8  \n",
      " 75  CJT_GESAMTTYP_3.0      uint8  \n",
      " 76  CJT_GESAMTTYP_4.0      uint8  \n",
      " 77  CJT_GESAMTTYP_5.0      uint8  \n",
      " 78  CJT_GESAMTTYP_6.0      uint8  \n",
      " 79  LP_FAMILIE_FEIN_1.0    uint8  \n",
      " 80  LP_FAMILIE_FEIN_2.0    uint8  \n",
      " 81  LP_FAMILIE_FEIN_3.0    uint8  \n",
      " 82  LP_FAMILIE_FEIN_4.0    uint8  \n",
      " 83  LP_FAMILIE_FEIN_5.0    uint8  \n",
      " 84  LP_FAMILIE_FEIN_6.0    uint8  \n",
      " 85  LP_FAMILIE_FEIN_7.0    uint8  \n",
      " 86  LP_FAMILIE_FEIN_8.0    uint8  \n",
      " 87  LP_FAMILIE_FEIN_9.0    uint8  \n",
      " 88  LP_FAMILIE_FEIN_10.0   uint8  \n",
      " 89  LP_FAMILIE_FEIN_11.0   uint8  \n",
      " 90  LP_STATUS_FEIN_1.0     uint8  \n",
      " 91  LP_STATUS_FEIN_2.0     uint8  \n",
      " 92  LP_STATUS_FEIN_3.0     uint8  \n",
      " 93  LP_STATUS_FEIN_4.0     uint8  \n",
      " 94  LP_STATUS_FEIN_5.0     uint8  \n",
      " 95  LP_STATUS_FEIN_6.0     uint8  \n",
      " 96  LP_STATUS_FEIN_7.0     uint8  \n",
      " 97  LP_STATUS_FEIN_8.0     uint8  \n",
      " 98  LP_STATUS_FEIN_9.0     uint8  \n",
      " 99  LP_STATUS_FEIN_10.0    uint8  \n",
      " 100 SHOPPER_TYP_0.0        uint8  \n",
      " 101 SHOPPER_TYP_1.0        uint8  \n",
      " 102 SHOPPER_TYP_2.0        uint8  \n",
      " 103 SHOPPER_TYP_3.0        uint8  \n",
      " 104 ZABEOTYP_1             uint8  \n",
      " 105 ZABEOTYP_2             uint8  \n",
      " 106 ZABEOTYP_3             uint8  \n",
      " 107 ZABEOTYP_4             uint8  \n",
      " 108 ZABEOTYP_5             uint8  \n",
      " 109 ZABEOTYP_6             uint8  \n",
      " 110 CAMEO_DEUG_2015_1      uint8  \n",
      " 111 CAMEO_DEUG_2015_2      uint8  \n",
      " 112 CAMEO_DEUG_2015_3      uint8  \n",
      " 113 CAMEO_DEUG_2015_4      uint8  \n",
      " 114 CAMEO_DEUG_2015_5      uint8  \n",
      " 115 CAMEO_DEUG_2015_6      uint8  \n",
      " 116 CAMEO_DEUG_2015_7      uint8  \n",
      " 117 CAMEO_DEUG_2015_8      uint8  \n",
      " 118 CAMEO_DEUG_2015_9      uint8  \n",
      "dtypes: float64(47), int64(24), object(2), uint8(46)\n",
      "memory usage: 502.1+ MB\n"
     ]
    }
   ],
   "source": [
    "azdias_encoded.info(verbose=True)"
   ]
  },
  {
   "cell_type": "code",
   "execution_count": 132,
   "metadata": {},
   "outputs": [],
   "source": [
    "# dropping remainding multilevel columns.\n",
    "drop_multilevel = ['GFK_URLAUBERTYP', 'FINANZTYP', 'LP_FAMILIE_GROB', 'LP_STATUS_GROB', 'NATIONALITAET_KZ', 'GEBAEUDETYP', \\\n",
    "                   'CAMEO_DEU_2015']\n",
    "azdias_encoded.drop(drop_multilevel, axis=1, inplace=True)"
   ]
  },
  {
   "cell_type": "markdown",
   "metadata": {},
   "source": [
    "#### Discussion 1.2.1: Re-Encode Categorical Features\n",
    "\n",
    "**Already Binary:**\n",
    "- Andrede_KZ\n",
    "- Green_Avantgarde\n",
    "- Soho_KZ\n",
    "- Vers_Typ\n",
    "- OST_West_KZ: Mapped W (West Germany) to 0 and O (East Germany) to 1\n",
    "\n",
    "**Keep:**\n",
    "- CJT_GESAMTTYP: Deals with information and buying channels for consumer, should have an impact on how someone shops. \n",
    "- LP_FAMILIE_FEIN: Deals with family type, should help show how certain family types behave in terms of shopping. \n",
    "- LP_STATUS_FEIN: Deals with social status based on earnings, should have an impact on how a person spends money. \n",
    "- SHOPPER_TYP: Deals with shopper type which should have an impact on results.\n",
    "- ZABEOTYP: Deals with energy consumption (i.e green, smart housing), for mail orders/physical order guides this could be important. \n",
    "- CAMEO_DEUG_2015: Deals with Wealth/Life stage in reasonable stages. \n",
    "\n",
    "**Drop:**\n",
    "- GFK_URLAUBERTYP: This deals with vacation habits and I don't believe vacation habits to have a large impact on mail-order shopping. \n",
    "- FINANZTYP: Deals with financial descriptors and could possibly be helpful but certain types ('be prepared' and 'inconspicuous') aren't well defined so not sure what it would be providing. \n",
    "- LP_FAMILIE_GROB: Deals with family type but in less detail than LP_FAMILIE_FEIN. \n",
    "- LP_STATUS_GROB: Deals with social status but in less detail than LP_FAMILIE_FEIN.\n",
    "- NATIONALITAET_KZ: Deals with nationality but only based on how a name sounds, don't believe this would be helpful. \n",
    "- GEBAEUDETYP: Deals with building type, mailing is available to all home types. \n",
    "- CAMEO_DEUG_2015: Deals with Wealth/Life stage in reasonable stages, however due to \n",
    "- CAMEO_DEU_2015: Deas with Wealth/Life stage but in extremely high detail that I don't believe will have more impact than the CAMEO_DEUG_2015 column. \n",
    "\n",
    "**Data Changes**\n",
    "- Once I had the columns I was going to keep I created a function that took that list and the dataframe and encoded all the new variables using get_dummies from Pandas and then added those to a new data frame azdias_encoded. "
   ]
  },
  {
   "cell_type": "markdown",
   "metadata": {},
   "source": [
    "#### Engineer Mixed-Type Features\n",
    "\n"
   ]
  },
  {
   "cell_type": "code",
   "execution_count": 93,
   "metadata": {
    "scrolled": true
   },
   "outputs": [
    {
     "data": {
      "text/plain": [
       "array([14., 15.,  8.,  3., 10., 11.,  5.,  9.,  6.,  4., nan,  2.,  1.,\n",
       "       12., 13.,  7.])"
      ]
     },
     "execution_count": 93,
     "metadata": {},
     "output_type": "execute_result"
    }
   ],
   "source": [
    "# Investigate \"PRAEGENDE_JUGENDJAHRE\" and engineer two new variables.\n",
    "azdias_encoded.PRAEGENDE_JUGENDJAHRE.unique()\n"
   ]
  },
  {
   "cell_type": "code",
   "execution_count": 94,
   "metadata": {},
   "outputs": [
    {
     "data": {
      "text/plain": [
       "14.0    181525\n",
       "8.0     140681\n",
       "10.0     85276\n",
       "5.0      84400\n",
       "3.0      53615\n",
       "15.0     42078\n",
       "11.0     35448\n",
       "9.0      33515\n",
       "NaN      27615\n",
       "6.0      25629\n",
       "12.0     24340\n",
       "1.0      20550\n",
       "4.0      20431\n",
       "2.0       7470\n",
       "13.0      5714\n",
       "7.0       4000\n",
       "Name: PRAEGENDE_JUGENDJAHRE, dtype: int64"
      ]
     },
     "execution_count": 94,
     "metadata": {},
     "output_type": "execute_result"
    }
   ],
   "source": [
    "azdias_encoded.PRAEGENDE_JUGENDJAHRE.value_counts(dropna=False)"
   ]
  },
  {
   "cell_type": "markdown",
   "metadata": {},
   "source": [
    "**Handle the Movement variable first as it's a simple binary. Will map to 1 or 0 for whether or not they were apart of the \n",
    "mainstream movement.**"
   ]
  },
  {
   "cell_type": "code",
   "execution_count": 81,
   "metadata": {},
   "outputs": [],
   "source": [
    "movement = {'mainstream': [1, 3, 5, 8, 10, 12, 14], 'avantgarde': [2, 4, 6, 7, 9, 11, 13, 15]}"
   ]
  },
  {
   "cell_type": "code",
   "execution_count": 133,
   "metadata": {},
   "outputs": [],
   "source": [
    "azdias_encoded['MAINSTREAM'] = azdias_encoded['PRAEGENDE_JUGENDJAHRE'].apply(lambda x: 1 if x in movement['mainstream'] else 0)"
   ]
  },
  {
   "cell_type": "code",
   "execution_count": 134,
   "metadata": {},
   "outputs": [
    {
     "data": {
      "text/plain": [
       "1    14.0\n",
       "2    15.0\n",
       "3     8.0\n",
       "4     8.0\n",
       "5     3.0\n",
       "Name: PRAEGENDE_JUGENDJAHRE, dtype: float64"
      ]
     },
     "execution_count": 134,
     "metadata": {},
     "output_type": "execute_result"
    }
   ],
   "source": [
    "azdias_encoded.PRAEGENDE_JUGENDJAHRE.head()"
   ]
  },
  {
   "cell_type": "code",
   "execution_count": 135,
   "metadata": {},
   "outputs": [
    {
     "data": {
      "text/plain": [
       "1    1\n",
       "2    0\n",
       "3    1\n",
       "4    1\n",
       "5    1\n",
       "Name: MAINSTREAM, dtype: int64"
      ]
     },
     "execution_count": 135,
     "metadata": {},
     "output_type": "execute_result"
    }
   ],
   "source": [
    "azdias_encoded.MAINSTREAM.head()"
   ]
  },
  {
   "cell_type": "markdown",
   "metadata": {},
   "source": [
    "**Next I'll handle the decade by mapping each value to a decade and then creating a dummy variable for those decades.**"
   ]
  },
  {
   "cell_type": "code",
   "execution_count": 98,
   "metadata": {},
   "outputs": [],
   "source": [
    "decade_dict = {1: '40s', 2:'40s', 3:'50s', 4:'50s', 5:'60s', 6:'60s',\\\n",
    "              7:'60s', 8:'70s', 9:'70s', 10:'80s', 11:'80s', 12:'80s',\\\n",
    "              13:'80s', 14:'90s', 15:'90s'}"
   ]
  },
  {
   "cell_type": "code",
   "execution_count": 136,
   "metadata": {},
   "outputs": [],
   "source": [
    "# create new column for decade\n",
    "azdias_encoded['decade'] = azdias_encoded['PRAEGENDE_JUGENDJAHRE'].map(decade_dict)"
   ]
  },
  {
   "cell_type": "code",
   "execution_count": 137,
   "metadata": {},
   "outputs": [],
   "source": [
    "# create dummy variables and add to dataframe\n",
    "azdias_encoded = azdias_encoded.join(pd.get_dummies(azdias_encoded['decade'], prefix='DECADE'))"
   ]
  },
  {
   "cell_type": "code",
   "execution_count": 138,
   "metadata": {},
   "outputs": [],
   "source": [
    "# drop original PRAEGENDE_JUGENDJAHRE column and decade column. \n",
    "azdias_encoded.drop(['PRAEGENDE_JUGENDJAHRE', 'decade'], axis=1, inplace=True)"
   ]
  },
  {
   "cell_type": "code",
   "execution_count": 139,
   "metadata": {
    "scrolled": true
   },
   "outputs": [
    {
     "data": {
      "text/plain": [
       "51     133492\n",
       "41      92080\n",
       "24      90699\n",
       "14      62565\n",
       "43      56495\n",
       "54      45287\n",
       "25      39413\n",
       "22      32931\n",
       "13      26162\n",
       "45      26038\n",
       "23      26028\n",
       "55      23866\n",
       "52      20508\n",
       "31      18661\n",
       "34      18445\n",
       "15      16913\n",
       "44      14776\n",
       "12      13136\n",
       "35      10316\n",
       "32      10304\n",
       "33       9856\n",
       "NaN      4316\n",
       "Name: CAMEO_INTL_2015, dtype: int64"
      ]
     },
     "execution_count": 139,
     "metadata": {},
     "output_type": "execute_result"
    }
   ],
   "source": [
    "# Investigate \"CAMEO_INTL_2015\" and engineer two new variables.\n",
    "\n",
    "azdias_encoded.CAMEO_INTL_2015.value_counts(dropna=False)"
   ]
  },
  {
   "cell_type": "code",
   "execution_count": 103,
   "metadata": {},
   "outputs": [
    {
     "data": {
      "text/plain": [
       "array(['51', '24', '12', '43', '54', '22', '14', '13', '15', '33', '41',\n",
       "       '34', '55', '25', nan, '23', '31', '52', '35', '45', '44', '32'],\n",
       "      dtype=object)"
      ]
     },
     "execution_count": 103,
     "metadata": {},
     "output_type": "execute_result"
    }
   ],
   "source": [
    "azdias_encoded.CAMEO_INTL_2015.unique()"
   ]
  },
  {
   "cell_type": "markdown",
   "metadata": {},
   "source": [
    "**Since the values are represented by first and second numbers (Wealth and Life Stage respectively) I'll create two new columns by pulling the corresponding number to represent Wealth and Life Stage from the original column.**"
   ]
  },
  {
   "cell_type": "code",
   "execution_count": 140,
   "metadata": {},
   "outputs": [],
   "source": [
    "# set up the Wealth column while ignoring NaN values\n",
    "azdias_encoded['WEALTH'] = azdias_encoded['CAMEO_INTL_2015'].apply(lambda x: None if str(x)[0] == 'n' else int(str(x)[0]))"
   ]
  },
  {
   "cell_type": "code",
   "execution_count": 141,
   "metadata": {},
   "outputs": [],
   "source": [
    "# set up the Life Stage column while ignoring NaN values\n",
    "azdias_encoded['LIFE_STAGE'] = azdias_encoded['CAMEO_INTL_2015'].apply(lambda x: None if str(x)[0] == 'n' else int(str(x)[1]))"
   ]
  },
  {
   "cell_type": "code",
   "execution_count": 142,
   "metadata": {},
   "outputs": [],
   "source": [
    "wealth_df = pd.get_dummies(azdias_encoded['WEALTH'], prefix='WEALTH')"
   ]
  },
  {
   "cell_type": "code",
   "execution_count": 143,
   "metadata": {},
   "outputs": [],
   "source": [
    "life_df = pd.get_dummies(azdias_encoded['LIFE_STAGE'], prefix='LIFE_STAGE')"
   ]
  },
  {
   "cell_type": "code",
   "execution_count": 144,
   "metadata": {},
   "outputs": [],
   "source": [
    "azdias_encoded = azdias_encoded.join([life_df, wealth_df])"
   ]
  },
  {
   "cell_type": "code",
   "execution_count": 145,
   "metadata": {},
   "outputs": [],
   "source": [
    "azdias_encoded.drop('CAMEO_INTL_2015', axis=1, inplace=True)"
   ]
  },
  {
   "cell_type": "markdown",
   "metadata": {},
   "source": [
    "**Find and drop remainding mixed feature columns.**"
   ]
  },
  {
   "cell_type": "code",
   "execution_count": 110,
   "metadata": {},
   "outputs": [
    {
     "data": {
      "text/html": [
       "<div>\n",
       "<style scoped>\n",
       "    .dataframe tbody tr th:only-of-type {\n",
       "        vertical-align: middle;\n",
       "    }\n",
       "\n",
       "    .dataframe tbody tr th {\n",
       "        vertical-align: top;\n",
       "    }\n",
       "\n",
       "    .dataframe thead th {\n",
       "        text-align: right;\n",
       "    }\n",
       "</style>\n",
       "<table border=\"1\" class=\"dataframe\">\n",
       "  <thead>\n",
       "    <tr style=\"text-align: right;\">\n",
       "      <th></th>\n",
       "      <th>attribute</th>\n",
       "      <th>information_level</th>\n",
       "      <th>type</th>\n",
       "      <th>missing_or_unknown</th>\n",
       "    </tr>\n",
       "  </thead>\n",
       "  <tbody>\n",
       "    <tr>\n",
       "      <th>15</th>\n",
       "      <td>LP_LEBENSPHASE_FEIN</td>\n",
       "      <td>person</td>\n",
       "      <td>mixed</td>\n",
       "      <td>[0]</td>\n",
       "    </tr>\n",
       "    <tr>\n",
       "      <th>16</th>\n",
       "      <td>LP_LEBENSPHASE_GROB</td>\n",
       "      <td>person</td>\n",
       "      <td>mixed</td>\n",
       "      <td>[0]</td>\n",
       "    </tr>\n",
       "    <tr>\n",
       "      <th>22</th>\n",
       "      <td>PRAEGENDE_JUGENDJAHRE</td>\n",
       "      <td>person</td>\n",
       "      <td>mixed</td>\n",
       "      <td>[-1,0]</td>\n",
       "    </tr>\n",
       "    <tr>\n",
       "      <th>56</th>\n",
       "      <td>WOHNLAGE</td>\n",
       "      <td>building</td>\n",
       "      <td>mixed</td>\n",
       "      <td>[-1]</td>\n",
       "    </tr>\n",
       "    <tr>\n",
       "      <th>59</th>\n",
       "      <td>CAMEO_INTL_2015</td>\n",
       "      <td>microcell_rr4</td>\n",
       "      <td>mixed</td>\n",
       "      <td>[-1,XX]</td>\n",
       "    </tr>\n",
       "    <tr>\n",
       "      <th>79</th>\n",
       "      <td>PLZ8_BAUMAX</td>\n",
       "      <td>macrocell_plz8</td>\n",
       "      <td>mixed</td>\n",
       "      <td>[-1,0]</td>\n",
       "    </tr>\n",
       "  </tbody>\n",
       "</table>\n",
       "</div>"
      ],
      "text/plain": [
       "                attribute information_level   type missing_or_unknown\n",
       "15    LP_LEBENSPHASE_FEIN            person  mixed                [0]\n",
       "16    LP_LEBENSPHASE_GROB            person  mixed                [0]\n",
       "22  PRAEGENDE_JUGENDJAHRE            person  mixed             [-1,0]\n",
       "56               WOHNLAGE          building  mixed               [-1]\n",
       "59        CAMEO_INTL_2015     microcell_rr4  mixed            [-1,XX]\n",
       "79            PLZ8_BAUMAX    macrocell_plz8  mixed             [-1,0]"
      ]
     },
     "execution_count": 110,
     "metadata": {},
     "output_type": "execute_result"
    }
   ],
   "source": [
    "feat_info_full.query(\"type == 'mixed'\")"
   ]
  },
  {
   "cell_type": "code",
   "execution_count": 113,
   "metadata": {},
   "outputs": [],
   "source": [
    "drop_encoded = ['WEALTH', 'LIFE_STAGE', 'LP_LEBENSPHASE_FEIN', 'WOHNLAGE', 'PLZ8_BAUMAX']"
   ]
  },
  {
   "cell_type": "code",
   "execution_count": 146,
   "metadata": {},
   "outputs": [],
   "source": [
    "azdias_encoded.drop(drop_encoded, axis=1, inplace=True)"
   ]
  },
  {
   "cell_type": "markdown",
   "metadata": {},
   "source": [
    "#### Discussion 1.2.2: Engineer Mixed-Type Features\n",
    "\n",
    "For the PRAEGENDE_JUGENDJAHRE column, according to the data dictionary, each number represents both the decade of youth and what movement they were apart of (mainstream or avantgarde). It also describes what part of Germany (East or West) but some are mixed so makes it too difficult to break out into new variables. I broke the original column into two new variables, decade and movement. Movement was broken into a binary column since they were either mainstream or avantgarde. For decade I created dummy variables for each decade and added those to the dataframe. The original column PRAEGENDE_JUGENDJAHRE was then dropped. \n",
    "\n",
    "For the CAMEO_INTL_2015 column each value represent Wealth (1 - Wealthy through 5 - Poorer Households) and Life Stage (1 Pre Family Couples/Single through 5 - Elders in Retirement) so for example a value that is 15 represents a Wealthy Elder in Retirement. Since each number represented something new I simply pulled the first number for a Wealth column, and then the second number for Stage of Life. Once I had those I created dummy variables for each column and then dropped the original column. \n",
    "\n",
    "I decided to drop the rest of the mixed type features. "
   ]
  },
  {
   "cell_type": "markdown",
   "metadata": {},
   "source": [
    "####  Complete Feature Selection\n",
    "\n"
   ]
  },
  {
   "cell_type": "code",
   "execution_count": 147,
   "metadata": {},
   "outputs": [
    {
     "name": "stdout",
     "output_type": "stream",
     "text": [
      "<class 'pandas.core.frame.DataFrame'>\n",
      "Int64Index: 792287 entries, 1 to 891220\n",
      "Data columns (total 124 columns):\n",
      " #   Column                 Dtype  \n",
      "---  ------                 -----  \n",
      " 0   ALTERSKATEGORIE_GROB   float64\n",
      " 1   ANREDE_KZ              int64  \n",
      " 2   FINANZ_MINIMALIST      int64  \n",
      " 3   FINANZ_SPARER          int64  \n",
      " 4   FINANZ_VORSORGER       int64  \n",
      " 5   FINANZ_ANLEGER         int64  \n",
      " 6   FINANZ_UNAUFFAELLIGER  int64  \n",
      " 7   FINANZ_HAUSBAUER       int64  \n",
      " 8   GREEN_AVANTGARDE       int64  \n",
      " 9   HEALTH_TYP             float64\n",
      " 10  LP_LEBENSPHASE_GROB    float64\n",
      " 11  RETOURTYP_BK_S         float64\n",
      " 12  SEMIO_SOZ              int64  \n",
      " 13  SEMIO_FAM              int64  \n",
      " 14  SEMIO_REL              int64  \n",
      " 15  SEMIO_MAT              int64  \n",
      " 16  SEMIO_VERT             int64  \n",
      " 17  SEMIO_LUST             int64  \n",
      " 18  SEMIO_ERL              int64  \n",
      " 19  SEMIO_KULT             int64  \n",
      " 20  SEMIO_RAT              int64  \n",
      " 21  SEMIO_KRIT             int64  \n",
      " 22  SEMIO_DOM              int64  \n",
      " 23  SEMIO_KAEM             int64  \n",
      " 24  SEMIO_PFLICHT          int64  \n",
      " 25  SEMIO_TRADV            int64  \n",
      " 26  SOHO_KZ                float64\n",
      " 27  VERS_TYP               float64\n",
      " 28  ANZ_PERSONEN           float64\n",
      " 29  ANZ_TITEL              float64\n",
      " 30  HH_EINKOMMEN_SCORE     float64\n",
      " 31  W_KEIT_KIND_HH         float64\n",
      " 32  WOHNDAUER_2008         float64\n",
      " 33  ANZ_HAUSHALTE_AKTIV    float64\n",
      " 34  ANZ_HH_TITEL           float64\n",
      " 35  KONSUMNAEHE            float64\n",
      " 36  MIN_GEBAEUDEJAHR       float64\n",
      " 37  OST_WEST_KZ            int64  \n",
      " 38  KBA05_ANTG1            float64\n",
      " 39  KBA05_ANTG2            float64\n",
      " 40  KBA05_ANTG3            float64\n",
      " 41  KBA05_ANTG4            float64\n",
      " 42  KBA05_GBZ              float64\n",
      " 43  BALLRAUM               float64\n",
      " 44  EWDICHTE               float64\n",
      " 45  INNENSTADT             float64\n",
      " 46  GEBAEUDETYP_RASTER     float64\n",
      " 47  KKK                    float64\n",
      " 48  MOBI_REGIO             float64\n",
      " 49  ONLINE_AFFINITAET      float64\n",
      " 50  REGIOTYP               float64\n",
      " 51  KBA13_ANZAHL_PKW       float64\n",
      " 52  PLZ8_ANTG1             float64\n",
      " 53  PLZ8_ANTG2             float64\n",
      " 54  PLZ8_ANTG3             float64\n",
      " 55  PLZ8_ANTG4             float64\n",
      " 56  PLZ8_HHZ               float64\n",
      " 57  PLZ8_GBZ               float64\n",
      " 58  ARBEIT                 float64\n",
      " 59  ORTSGR_KLS9            float64\n",
      " 60  RELAT_AB               float64\n",
      " 61  CJT_GESAMTTYP_1.0      uint8  \n",
      " 62  CJT_GESAMTTYP_2.0      uint8  \n",
      " 63  CJT_GESAMTTYP_3.0      uint8  \n",
      " 64  CJT_GESAMTTYP_4.0      uint8  \n",
      " 65  CJT_GESAMTTYP_5.0      uint8  \n",
      " 66  CJT_GESAMTTYP_6.0      uint8  \n",
      " 67  LP_FAMILIE_FEIN_1.0    uint8  \n",
      " 68  LP_FAMILIE_FEIN_2.0    uint8  \n",
      " 69  LP_FAMILIE_FEIN_3.0    uint8  \n",
      " 70  LP_FAMILIE_FEIN_4.0    uint8  \n",
      " 71  LP_FAMILIE_FEIN_5.0    uint8  \n",
      " 72  LP_FAMILIE_FEIN_6.0    uint8  \n",
      " 73  LP_FAMILIE_FEIN_7.0    uint8  \n",
      " 74  LP_FAMILIE_FEIN_8.0    uint8  \n",
      " 75  LP_FAMILIE_FEIN_9.0    uint8  \n",
      " 76  LP_FAMILIE_FEIN_10.0   uint8  \n",
      " 77  LP_FAMILIE_FEIN_11.0   uint8  \n",
      " 78  LP_STATUS_FEIN_1.0     uint8  \n",
      " 79  LP_STATUS_FEIN_2.0     uint8  \n",
      " 80  LP_STATUS_FEIN_3.0     uint8  \n",
      " 81  LP_STATUS_FEIN_4.0     uint8  \n",
      " 82  LP_STATUS_FEIN_5.0     uint8  \n",
      " 83  LP_STATUS_FEIN_6.0     uint8  \n",
      " 84  LP_STATUS_FEIN_7.0     uint8  \n",
      " 85  LP_STATUS_FEIN_8.0     uint8  \n",
      " 86  LP_STATUS_FEIN_9.0     uint8  \n",
      " 87  LP_STATUS_FEIN_10.0    uint8  \n",
      " 88  SHOPPER_TYP_0.0        uint8  \n",
      " 89  SHOPPER_TYP_1.0        uint8  \n",
      " 90  SHOPPER_TYP_2.0        uint8  \n",
      " 91  SHOPPER_TYP_3.0        uint8  \n",
      " 92  ZABEOTYP_1             uint8  \n",
      " 93  ZABEOTYP_2             uint8  \n",
      " 94  ZABEOTYP_3             uint8  \n",
      " 95  ZABEOTYP_4             uint8  \n",
      " 96  ZABEOTYP_5             uint8  \n",
      " 97  ZABEOTYP_6             uint8  \n",
      " 98  CAMEO_DEUG_2015_1      uint8  \n",
      " 99  CAMEO_DEUG_2015_2      uint8  \n",
      " 100 CAMEO_DEUG_2015_3      uint8  \n",
      " 101 CAMEO_DEUG_2015_4      uint8  \n",
      " 102 CAMEO_DEUG_2015_5      uint8  \n",
      " 103 CAMEO_DEUG_2015_6      uint8  \n",
      " 104 CAMEO_DEUG_2015_7      uint8  \n",
      " 105 CAMEO_DEUG_2015_8      uint8  \n",
      " 106 CAMEO_DEUG_2015_9      uint8  \n",
      " 107 MAINSTREAM             int64  \n",
      " 108 DECADE_40s             uint8  \n",
      " 109 DECADE_50s             uint8  \n",
      " 110 DECADE_60s             uint8  \n",
      " 111 DECADE_70s             uint8  \n",
      " 112 DECADE_80s             uint8  \n",
      " 113 DECADE_90s             uint8  \n",
      " 114 LIFE_STAGE_1.0         uint8  \n",
      " 115 LIFE_STAGE_2.0         uint8  \n",
      " 116 LIFE_STAGE_3.0         uint8  \n",
      " 117 LIFE_STAGE_4.0         uint8  \n",
      " 118 LIFE_STAGE_5.0         uint8  \n",
      " 119 WEALTH_1.0             uint8  \n",
      " 120 WEALTH_2.0             uint8  \n",
      " 121 WEALTH_3.0             uint8  \n",
      " 122 WEALTH_4.0             uint8  \n",
      " 123 WEALTH_5.0             uint8  \n",
      "dtypes: float64(38), int64(24), uint8(62)\n",
      "memory usage: 447.7 MB\n"
     ]
    }
   ],
   "source": [
    "# checking to make sure that I only had the columns I just encoded and were either numeric, interval, or ordinal already\n",
    "azdias_encoded.info(verbose=True)\n"
   ]
  },
  {
   "cell_type": "markdown",
   "metadata": {},
   "source": [
    "### Create a Cleaning Function\n",
    "\n"
   ]
  },
  {
   "cell_type": "code",
   "execution_count": 232,
   "metadata": {},
   "outputs": [],
   "source": [
    "def clean_data(df):\n",
    "    \"\"\"\n",
    "    Perform feature trimming, re-encoding, and engineering for demographics\n",
    "    data\n",
    "    \n",
    "    INPUT: Demographics DataFrame\n",
    "    OUTPUT: Trimmed and cleaned demographics DataFrame\n",
    "    \"\"\"\n",
    "    \n",
    "    # Put in code here to execute all main cleaning steps:\n",
    "    # convert missing value codes into NaNs, ...\n",
    "    new_list = []\n",
    "    \n",
    "    for index in range(len(feat_info)):\n",
    "        find = re.findall(r'\\[(.*?)\\]', feat_info['missing_or_unknown'][index])\n",
    "        new = find[0].split(',')\n",
    "        new_list.append(new)\n",
    "    \n",
    "    miss_dict = dict(zip(feat_info['attribute'], new_list))\n",
    "    \n",
    "    for key, value in miss_dict.items():\n",
    "        for val in value:\n",
    "            if val not in ['XX', 'X', '']:\n",
    "                val = int(val)\n",
    "                df[key] = df[key].replace(val, np.NaN)\n",
    "            elif val != '':\n",
    "                df[key] = df[key].replace(val, np.NaN)\n",
    "    \n",
    "    # remove selected columns and rows, ...\n",
    "    \n",
    "    # list of columns removed from population data due to missing data values\n",
    "    \n",
    "    drop_list = ['AGER_TYP', 'GEBURTSJAHR', 'TITEL_KZ', 'ALTER_HH', 'KK_KUNDENTYP', 'KBA05_BAUMAX']\n",
    "\n",
    "    df.drop(drop_list, axis=1, inplace=True)\n",
    "    \n",
    "    above = [index for index in range(len(df)) if df.iloc[index].isnull().mean() > .2]\n",
    "    \n",
    "    df.drop(above, inplace=True) \n",
    "    \n",
    "    # select, re-encode, and engineer column values.\n",
    "    \n",
    "    # encoding the columns to keep with dummy variables\n",
    "    \n",
    "    keep_list = ['CJT_GESAMTTYP', 'LP_FAMILIE_FEIN', 'LP_STATUS_FEIN', 'SHOPPER_TYP', 'ZABEOTYP', 'CAMEO_DEUG_2015']\n",
    "\n",
    "    for col in keep_list:\n",
    "        dummy_df = pd.get_dummies(df[col], prefix=col)\n",
    "        df = df.join(dummy_df)\n",
    "        df.drop(col, axis=1, inplace=True)\n",
    "        \n",
    "    \n",
    "    # Encoding the OST_WEST_KZ binary column to 1 and 0\n",
    "    df['OST_WEST_KZ'] = df['OST_WEST_KZ'].map({'W': 0, 'O': 1})\n",
    "    \n",
    "    # encode multilevel column PRAEGENDE_JUGENDJAHRE and drop original column\n",
    "    \n",
    "    movement = {'mainstream': [1,3,5,8,10,12,14], 'avantgarde': [2,4,6,7,9,11,13,15]}\n",
    "    \n",
    "    df['MAINSTREAM'] = df['PRAEGENDE_JUGENDJAHRE'].apply(lambda x: 1 if x in movement['mainstream'] else 0)\n",
    "    \n",
    "    decade_dict = {1: '40s', 2:'40s', 3:'50s', 4:'50s', 5:'60s', 6:'60s',\\\n",
    "              7:'60s', 8:'70s', 9:'70s', 10:'80s', 11:'80s', 12:'80s',\\\n",
    "              13:'80s', 14:'90s', 15:'90s'}\n",
    "    \n",
    "    df['decade'] = df['PRAEGENDE_JUGENDJAHRE'].map(decade_dict)\n",
    "    \n",
    "    df = df.join(pd.get_dummies(df['decade'], prefix='DECADE'))\n",
    "    \n",
    "    df.drop(['PRAEGENDE_JUGENDJAHRE', 'decade'], axis=1, inplace=True)\n",
    "    \n",
    "    # encode multilevel column CAMEO_INTL_2015 and drop original column\n",
    "    \n",
    "    df['WEALTH'] = df['CAMEO_INTL_2015'].apply(lambda x: None if str(x)[0] == 'n' else int(str(x)[0]))\n",
    "    \n",
    "    df['LIFE_STAGE'] = df['CAMEO_INTL_2015'].apply(lambda x: None if str(x)[0] == 'n' else int(str(x)[1]))\n",
    "    \n",
    "    df = df.join(pd.get_dummies(df['LIFE_STAGE'], prefix='LIFE_STAGE'))\n",
    "    \n",
    "    df = df.join(pd.get_dummies(df['WEALTH'], prefix='WEALTH'))\n",
    "    \n",
    "    df.drop('CAMEO_INTL_2015', axis=1, inplace=True)\n",
    "    \n",
    "    # drop unecessary columns\n",
    "    \n",
    "    drop_multilevel = ['GFK_URLAUBERTYP', 'FINANZTYP', 'LP_FAMILIE_GROB', 'LP_STATUS_GROB', 'NATIONALITAET_KZ', \\\n",
    "                       'GEBAEUDETYP', 'CAMEO_DEU_2015']\n",
    "    \n",
    "    drop_encoded = ['WEALTH', 'LIFE_STAGE', 'LP_LEBENSPHASE_FEIN', 'WOHNLAGE', 'PLZ8_BAUMAX']\n",
    "    \n",
    "    df.drop(drop_multilevel, axis=1, inplace=True)\n",
    "    \n",
    "    df.drop(drop_encoded, axis=1, inplace=True)\n",
    "    \n",
    "    \n",
    "    \n",
    "    \n",
    "    \n",
    "    # Return the cleaned dataframe.\n",
    "    return df\n",
    "    "
   ]
  },
  {
   "cell_type": "markdown",
   "metadata": {},
   "source": [
    "## Step 2: Feature Transformation\n",
    "\n",
    "### Step 2.1: Apply Feature Scaling\n"
   ]
  },
  {
   "cell_type": "code",
   "execution_count": 148,
   "metadata": {},
   "outputs": [],
   "source": [
    "# If you've not yet cleaned the dataset of all NaN values, then investigate and\n",
    "# do that now.\n",
    "\n",
    "impute = SimpleImputer(missing_values=np.nan, strategy='most_frequent')\n"
   ]
  },
  {
   "cell_type": "code",
   "execution_count": 149,
   "metadata": {},
   "outputs": [],
   "source": [
    "azdias_clean = impute.fit_transform(azdias_encoded)"
   ]
  },
  {
   "cell_type": "code",
   "execution_count": 150,
   "metadata": {},
   "outputs": [],
   "source": [
    "# Apply feature scaling to the general population demographics data.\n",
    "scale = StandardScaler()\n",
    "azdias_scaled = pd.DataFrame(scale.fit_transform(azdias_clean), columns=azdias_encoded.columns)\n"
   ]
  },
  {
   "cell_type": "markdown",
   "metadata": {},
   "source": [
    "### Discussion 2.1: Apply Feature Scaling\n",
    "\n",
    "For filling of the missing data I chose to use the most_frequent strategy to fill any missing data with those values. Due to the way most of the values represent a value rather than being a value I didn't think it made sense to use mean as there aren't any partial values invovled. I stuck with a StandardScaler as most machine learning models work best with a gaussian distribution and a StandardScaler provides that."
   ]
  },
  {
   "cell_type": "markdown",
   "metadata": {},
   "source": [
    "### Step 2.2: Perform Dimensionality Reduction\n"
   ]
  },
  {
   "cell_type": "code",
   "execution_count": 151,
   "metadata": {},
   "outputs": [
    {
     "data": {
      "text/plain": [
       "PCA()"
      ]
     },
     "execution_count": 151,
     "metadata": {},
     "output_type": "execute_result"
    }
   ],
   "source": [
    "# Apply PCA to the data.\n",
    "pca = PCA()\n",
    "pca.fit(azdias_scaled)\n"
   ]
  },
  {
   "cell_type": "code",
   "execution_count": 152,
   "metadata": {
    "scrolled": true
   },
   "outputs": [
    {
     "data": {
      "image/png": "[encoded data removed]",
      "text/plain": [
       "<Figure size 432x288 with 1 Axes>"
      ]
     },
     "metadata": {
      "needs_background": "light"
     },
     "output_type": "display_data"
    }
   ],
   "source": [
    "# Investigate the variance accounted for by each principal component.\n",
    "\n",
    "plt.plot(pca.explained_variance_ratio_);"
   ]
  },
  {
   "cell_type": "code",
   "execution_count": 157,
   "metadata": {},
   "outputs": [
    {
     "data": {
      "image/png": "[encoded data removed]",
      "text/plain": [
       "<Figure size 432x288 with 1 Axes>"
      ]
     },
     "metadata": {
      "needs_background": "light"
     },
     "output_type": "display_data"
    }
   ],
   "source": [
    "plt.bar(x = range(1, 125), height = pca.explained_variance_ratio_);"
   ]
  },
  {
   "cell_type": "code",
   "execution_count": 162,
   "metadata": {},
   "outputs": [],
   "source": [
    "# Re-apply PCA to the data while selecting for number of components to retain.\n",
    "pca_20 = PCA(n_components=20)"
   ]
  },
  {
   "cell_type": "code",
   "execution_count": 217,
   "metadata": {},
   "outputs": [
    {
     "data": {
      "text/plain": [
       "PCA(n_components=20)"
      ]
     },
     "execution_count": 217,
     "metadata": {},
     "output_type": "execute_result"
    }
   ],
   "source": [
    "pca_20.fit(azdias_scaled)"
   ]
  },
  {
   "cell_type": "code",
   "execution_count": 218,
   "metadata": {},
   "outputs": [],
   "source": [
    "azdias_pca = pca_20.transform(azdias_scaled)"
   ]
  },
  {
   "cell_type": "code",
   "execution_count": 220,
   "metadata": {},
   "outputs": [
    {
     "data": {
      "image/png": "[encoded data removed]",
      "text/plain": [
       "<Figure size 432x288 with 1 Axes>"
      ]
     },
     "metadata": {
      "needs_background": "light"
     },
     "output_type": "display_data"
    }
   ],
   "source": [
    "plt.bar(x=range(1,21), height=pca_20.explained_variance_ratio_);"
   ]
  },
  {
   "cell_type": "markdown",
   "metadata": {},
   "source": [
    "### Discussion 2.2: Perform Dimensionality Reduction\n",
    "\n",
    "Looking at the first graph with all the components included it looks to me that the graph starts to really level off around 20 so I decided to reapply the PCA model with 20 components and use that moving forward."
   ]
  },
  {
   "cell_type": "markdown",
   "metadata": {},
   "source": [
    "### Step 2.3: Interpret Principal Components\n",
    "\n"
   ]
  },
  {
   "cell_type": "code",
   "execution_count": 221,
   "metadata": {},
   "outputs": [],
   "source": [
    "def map_feature_weights(component):\n",
    "    \n",
    "    '''\n",
    "    Maps and displays sorted feature weights for each principal component available.\n",
    "    \n",
    "    Input - int: number of component to view, must be in range of components 1 to end. \n",
    "    Output - dataframe: sorted dataframe of linked feature weights from highest to lowest\n",
    "    \n",
    "    '''\n",
    "    \n",
    "    feature_weights = pca_20.components_\n",
    "    index = component - 1\n",
    "    feature_names = azdias_scaled.columns\n",
    "    \n",
    "    mapped_df = pd.DataFrame(feature_weights[index].reshape(1,124), columns=feature_names)\n",
    "    \n",
    "    name = 'Principal Component {}'.format(component)\n",
    "    mapped_df.index = [name]\n",
    "    \n",
    "    return mapped_df.sort_values(by = name, axis=1, ascending=False)"
   ]
  },
  {
   "cell_type": "code",
   "execution_count": 222,
   "metadata": {},
   "outputs": [
    {
     "data": {
      "text/html": [
       "<div>\n",
       "<style scoped>\n",
       "    .dataframe tbody tr th:only-of-type {\n",
       "        vertical-align: middle;\n",
       "    }\n",
       "\n",
       "    .dataframe tbody tr th {\n",
       "        vertical-align: top;\n",
       "    }\n",
       "\n",
       "    .dataframe thead th {\n",
       "        text-align: right;\n",
       "    }\n",
       "</style>\n",
       "<table border=\"1\" class=\"dataframe\">\n",
       "  <thead>\n",
       "    <tr style=\"text-align: right;\">\n",
       "      <th></th>\n",
       "      <th>PLZ8_ANTG3</th>\n",
       "      <th>HH_EINKOMMEN_SCORE</th>\n",
       "      <th>PLZ8_ANTG4</th>\n",
       "      <th>ORTSGR_KLS9</th>\n",
       "      <th>EWDICHTE</th>\n",
       "      <th>WEALTH_5.0</th>\n",
       "      <th>FINANZ_HAUSBAUER</th>\n",
       "      <th>LIFE_STAGE_1.0</th>\n",
       "      <th>KBA05_ANTG4</th>\n",
       "      <th>PLZ8_ANTG2</th>\n",
       "      <th>...</th>\n",
       "      <th>LP_STATUS_FEIN_10.0</th>\n",
       "      <th>LP_LEBENSPHASE_GROB</th>\n",
       "      <th>INNENSTADT</th>\n",
       "      <th>PLZ8_GBZ</th>\n",
       "      <th>KONSUMNAEHE</th>\n",
       "      <th>KBA05_ANTG1</th>\n",
       "      <th>KBA05_GBZ</th>\n",
       "      <th>FINANZ_MINIMALIST</th>\n",
       "      <th>PLZ8_ANTG1</th>\n",
       "      <th>MOBI_REGIO</th>\n",
       "    </tr>\n",
       "  </thead>\n",
       "  <tbody>\n",
       "    <tr>\n",
       "      <th>Principal Component 1</th>\n",
       "      <td>0.201671</td>\n",
       "      <td>0.196062</td>\n",
       "      <td>0.193853</td>\n",
       "      <td>0.172944</td>\n",
       "      <td>0.171199</td>\n",
       "      <td>0.164679</td>\n",
       "      <td>0.156446</td>\n",
       "      <td>0.154235</td>\n",
       "      <td>0.139585</td>\n",
       "      <td>0.138493</td>\n",
       "      <td>...</td>\n",
       "      <td>-0.117606</td>\n",
       "      <td>-0.128011</td>\n",
       "      <td>-0.143346</td>\n",
       "      <td>-0.14818</td>\n",
       "      <td>-0.149876</td>\n",
       "      <td>-0.196323</td>\n",
       "      <td>-0.196466</td>\n",
       "      <td>-0.199053</td>\n",
       "      <td>-0.202512</td>\n",
       "      <td>-0.205541</td>\n",
       "    </tr>\n",
       "  </tbody>\n",
       "</table>\n",
       "<p>1 rows × 124 columns</p>\n",
       "</div>"
      ],
      "text/plain": [
       "                       PLZ8_ANTG3  HH_EINKOMMEN_SCORE  PLZ8_ANTG4  \\\n",
       "Principal Component 1    0.201671            0.196062    0.193853   \n",
       "\n",
       "                       ORTSGR_KLS9  EWDICHTE  WEALTH_5.0  FINANZ_HAUSBAUER  \\\n",
       "Principal Component 1     0.172944  0.171199    0.164679          0.156446   \n",
       "\n",
       "                       LIFE_STAGE_1.0  KBA05_ANTG4  PLZ8_ANTG2  ...  \\\n",
       "Principal Component 1        0.154235     0.139585    0.138493  ...   \n",
       "\n",
       "                       LP_STATUS_FEIN_10.0  LP_LEBENSPHASE_GROB  INNENSTADT  \\\n",
       "Principal Component 1            -0.117606            -0.128011   -0.143346   \n",
       "\n",
       "                       PLZ8_GBZ  KONSUMNAEHE  KBA05_ANTG1  KBA05_GBZ  \\\n",
       "Principal Component 1  -0.14818    -0.149876    -0.196323  -0.196466   \n",
       "\n",
       "                       FINANZ_MINIMALIST  PLZ8_ANTG1  MOBI_REGIO  \n",
       "Principal Component 1          -0.199053   -0.202512   -0.205541  \n",
       "\n",
       "[1 rows x 124 columns]"
      ]
     },
     "execution_count": 222,
     "metadata": {},
     "output_type": "execute_result"
    }
   ],
   "source": [
    "# Map weights for the first principal component to corresponding feature names\n",
    "# and then print the linked values, sorted by weight.\n",
    "# HINT: Try defining a function here or in a new cell that you can reuse in the\n",
    "# other cells.\n",
    "\n",
    "map_feature_weights(1)"
   ]
  },
  {
   "cell_type": "code",
   "execution_count": 223,
   "metadata": {},
   "outputs": [
    {
     "data": {
      "text/html": [
       "<div>\n",
       "<style scoped>\n",
       "    .dataframe tbody tr th:only-of-type {\n",
       "        vertical-align: middle;\n",
       "    }\n",
       "\n",
       "    .dataframe tbody tr th {\n",
       "        vertical-align: top;\n",
       "    }\n",
       "\n",
       "    .dataframe thead th {\n",
       "        text-align: right;\n",
       "    }\n",
       "</style>\n",
       "<table border=\"1\" class=\"dataframe\">\n",
       "  <thead>\n",
       "    <tr style=\"text-align: right;\">\n",
       "      <th></th>\n",
       "      <th>ALTERSKATEGORIE_GROB</th>\n",
       "      <th>FINANZ_VORSORGER</th>\n",
       "      <th>ZABEOTYP_3</th>\n",
       "      <th>SEMIO_ERL</th>\n",
       "      <th>SEMIO_LUST</th>\n",
       "      <th>RETOURTYP_BK_S</th>\n",
       "      <th>DECADE_60s</th>\n",
       "      <th>W_KEIT_KIND_HH</th>\n",
       "      <th>CJT_GESAMTTYP_2.0</th>\n",
       "      <th>DECADE_50s</th>\n",
       "      <th>...</th>\n",
       "      <th>ONLINE_AFFINITAET</th>\n",
       "      <th>SEMIO_RAT</th>\n",
       "      <th>SEMIO_KULT</th>\n",
       "      <th>FINANZ_ANLEGER</th>\n",
       "      <th>DECADE_90s</th>\n",
       "      <th>SEMIO_PFLICHT</th>\n",
       "      <th>FINANZ_UNAUFFAELLIGER</th>\n",
       "      <th>SEMIO_TRADV</th>\n",
       "      <th>SEMIO_REL</th>\n",
       "      <th>FINANZ_SPARER</th>\n",
       "    </tr>\n",
       "  </thead>\n",
       "  <tbody>\n",
       "    <tr>\n",
       "      <th>Principal Component 2</th>\n",
       "      <td>0.244489</td>\n",
       "      <td>0.225297</td>\n",
       "      <td>0.211632</td>\n",
       "      <td>0.200822</td>\n",
       "      <td>0.169999</td>\n",
       "      <td>0.159492</td>\n",
       "      <td>0.118312</td>\n",
       "      <td>0.116053</td>\n",
       "      <td>0.113221</td>\n",
       "      <td>0.1067</td>\n",
       "      <td>...</td>\n",
       "      <td>-0.164744</td>\n",
       "      <td>-0.16941</td>\n",
       "      <td>-0.186784</td>\n",
       "      <td>-0.203113</td>\n",
       "      <td>-0.207673</td>\n",
       "      <td>-0.214995</td>\n",
       "      <td>-0.218553</td>\n",
       "      <td>-0.218862</td>\n",
       "      <td>-0.231061</td>\n",
       "      <td>-0.232446</td>\n",
       "    </tr>\n",
       "  </tbody>\n",
       "</table>\n",
       "<p>1 rows × 124 columns</p>\n",
       "</div>"
      ],
      "text/plain": [
       "                       ALTERSKATEGORIE_GROB  FINANZ_VORSORGER  ZABEOTYP_3  \\\n",
       "Principal Component 2              0.244489          0.225297    0.211632   \n",
       "\n",
       "                       SEMIO_ERL  SEMIO_LUST  RETOURTYP_BK_S  DECADE_60s  \\\n",
       "Principal Component 2   0.200822    0.169999        0.159492    0.118312   \n",
       "\n",
       "                       W_KEIT_KIND_HH  CJT_GESAMTTYP_2.0  DECADE_50s  ...  \\\n",
       "Principal Component 2        0.116053           0.113221      0.1067  ...   \n",
       "\n",
       "                       ONLINE_AFFINITAET  SEMIO_RAT  SEMIO_KULT  \\\n",
       "Principal Component 2          -0.164744   -0.16941   -0.186784   \n",
       "\n",
       "                       FINANZ_ANLEGER  DECADE_90s  SEMIO_PFLICHT  \\\n",
       "Principal Component 2       -0.203113   -0.207673      -0.214995   \n",
       "\n",
       "                       FINANZ_UNAUFFAELLIGER  SEMIO_TRADV  SEMIO_REL  \\\n",
       "Principal Component 2              -0.218553    -0.218862  -0.231061   \n",
       "\n",
       "                       FINANZ_SPARER  \n",
       "Principal Component 2      -0.232446  \n",
       "\n",
       "[1 rows x 124 columns]"
      ]
     },
     "execution_count": 223,
     "metadata": {},
     "output_type": "execute_result"
    }
   ],
   "source": [
    "# Map weights for the second principal component to corresponding feature names\n",
    "# and then print the linked values, sorted by weight.\n",
    "\n",
    "map_feature_weights(2)"
   ]
  },
  {
   "cell_type": "code",
   "execution_count": 224,
   "metadata": {},
   "outputs": [
    {
     "data": {
      "text/html": [
       "<div>\n",
       "<style scoped>\n",
       "    .dataframe tbody tr th:only-of-type {\n",
       "        vertical-align: middle;\n",
       "    }\n",
       "\n",
       "    .dataframe tbody tr th {\n",
       "        vertical-align: top;\n",
       "    }\n",
       "\n",
       "    .dataframe thead th {\n",
       "        text-align: right;\n",
       "    }\n",
       "</style>\n",
       "<table border=\"1\" class=\"dataframe\">\n",
       "  <thead>\n",
       "    <tr style=\"text-align: right;\">\n",
       "      <th></th>\n",
       "      <th>SEMIO_VERT</th>\n",
       "      <th>SEMIO_SOZ</th>\n",
       "      <th>SEMIO_FAM</th>\n",
       "      <th>SEMIO_KULT</th>\n",
       "      <th>FINANZ_MINIMALIST</th>\n",
       "      <th>SHOPPER_TYP_0.0</th>\n",
       "      <th>ZABEOTYP_1</th>\n",
       "      <th>SEMIO_REL</th>\n",
       "      <th>RETOURTYP_BK_S</th>\n",
       "      <th>W_KEIT_KIND_HH</th>\n",
       "      <th>...</th>\n",
       "      <th>FINANZ_SPARER</th>\n",
       "      <th>LP_STATUS_FEIN_2.0</th>\n",
       "      <th>SHOPPER_TYP_2.0</th>\n",
       "      <th>FINANZ_ANLEGER</th>\n",
       "      <th>SEMIO_RAT</th>\n",
       "      <th>SEMIO_ERL</th>\n",
       "      <th>SEMIO_KRIT</th>\n",
       "      <th>SEMIO_DOM</th>\n",
       "      <th>SEMIO_KAEM</th>\n",
       "      <th>ANREDE_KZ</th>\n",
       "    </tr>\n",
       "  </thead>\n",
       "  <tbody>\n",
       "    <tr>\n",
       "      <th>Principal Component 3</th>\n",
       "      <td>0.330073</td>\n",
       "      <td>0.260064</td>\n",
       "      <td>0.257071</td>\n",
       "      <td>0.244296</td>\n",
       "      <td>0.139973</td>\n",
       "      <td>0.128637</td>\n",
       "      <td>0.111383</td>\n",
       "      <td>0.096629</td>\n",
       "      <td>0.091769</td>\n",
       "      <td>0.076264</td>\n",
       "      <td>...</td>\n",
       "      <td>-0.078663</td>\n",
       "      <td>-0.089245</td>\n",
       "      <td>-0.099509</td>\n",
       "      <td>-0.166721</td>\n",
       "      <td>-0.182506</td>\n",
       "      <td>-0.194352</td>\n",
       "      <td>-0.272835</td>\n",
       "      <td>-0.301021</td>\n",
       "      <td>-0.327005</td>\n",
       "      <td>-0.355587</td>\n",
       "    </tr>\n",
       "  </tbody>\n",
       "</table>\n",
       "<p>1 rows × 124 columns</p>\n",
       "</div>"
      ],
      "text/plain": [
       "                       SEMIO_VERT  SEMIO_SOZ  SEMIO_FAM  SEMIO_KULT  \\\n",
       "Principal Component 3    0.330073   0.260064   0.257071    0.244296   \n",
       "\n",
       "                       FINANZ_MINIMALIST  SHOPPER_TYP_0.0  ZABEOTYP_1  \\\n",
       "Principal Component 3           0.139973         0.128637    0.111383   \n",
       "\n",
       "                       SEMIO_REL  RETOURTYP_BK_S  W_KEIT_KIND_HH  ...  \\\n",
       "Principal Component 3   0.096629        0.091769        0.076264  ...   \n",
       "\n",
       "                       FINANZ_SPARER  LP_STATUS_FEIN_2.0  SHOPPER_TYP_2.0  \\\n",
       "Principal Component 3      -0.078663           -0.089245        -0.099509   \n",
       "\n",
       "                       FINANZ_ANLEGER  SEMIO_RAT  SEMIO_ERL  SEMIO_KRIT  \\\n",
       "Principal Component 3       -0.166721  -0.182506  -0.194352   -0.272835   \n",
       "\n",
       "                       SEMIO_DOM  SEMIO_KAEM  ANREDE_KZ  \n",
       "Principal Component 3  -0.301021   -0.327005  -0.355587  \n",
       "\n",
       "[1 rows x 124 columns]"
      ]
     },
     "execution_count": 224,
     "metadata": {},
     "output_type": "execute_result"
    }
   ],
   "source": [
    "# Map weights for the third principal component to corresponding feature names\n",
    "# and then print the linked values, sorted by weight.\n",
    "\n",
    "map_feature_weights(3)"
   ]
  },
  {
   "cell_type": "markdown",
   "metadata": {},
   "source": [
    "### Discussion 2.3: Interpret Principal Components\n",
    "\n",
    "**Principal Component 1**\n",
    "\n",
    "> Top 5 Positive\n",
    ">    - PLZ8_ANTG3: Number of 6-10 family houses in PLZ8 Region\n",
    ">    - HH_EINKOMMEN_SCORE: Estimated household net income\n",
    ">    - PLZ8_ANTG4: Number of 10+ family houses in PLZ8 Region\n",
    ">    - ORTSGR_KLS9: size of community\n",
    ">    - EWDICHTE: density of households per square km\n",
    "\n",
    "> Top 5 Negative\n",
    ">    - MOBI_REGIO: Movement patterns\n",
    ">    - PLZ8_ANTG1: Number of 1-2 family houses in PLZ8 Region\n",
    ">    - FINANZ_MINIMALIST: low financial interest typology\t\n",
    ">    - KBA05_GBZ: Number of buildings in RR3 microcell\n",
    ">    - KBA05_ANTG1: Number of 1-2 family houses in RR3 microcell\n",
    "\n",
    "**Principal Component 2**\n",
    "\n",
    "> Top 5 Positive\n",
    ">    - ALTERSKATEGORIE_GROB: estimated age based on given name\n",
    ">    - FINANZ_VORSORGER: finance typology - be prepared\n",
    ">    - ZABEOTYP_3: energy consumption typology - fair supplied\n",
    ">    - SEMIO_ERL: personality typology - event minded\n",
    ">    - SEMIO_LUST: personality typology - sensual minded\n",
    "\n",
    "> Top 5 Negative\n",
    ">    - FINANZ_SPARER: finance typology - money saver\n",
    ">    - SEMIO_REL: personality typology - religious\n",
    ">    - SEMIO_TRADV: personality typology - traditional minded\n",
    ">    - FINANZ_UNAUFFAELLIGER: finance typology - inconspicuous\n",
    ">    - SEMIO_PFLICHT: personality typology - dutiful\t\n",
    "\n",
    "**Principal Component 3**\n",
    "\n",
    "> Top 5 Positive\n",
    ">    - SEMIO_VERT: personality typology - dreamful\n",
    ">    - SEMIO_SOZ: personality typology - socially minded\n",
    ">    - SEMIO_FAM: personality typology - family minded\t\n",
    ">    - SEMIO_KULT: personality typology - cultural minded\n",
    ">    - FINANZ_MINIMALIST: low financial interest typology\n",
    "\n",
    "> Top 5 Negative\n",
    ">    - ANREDE_KZ: gender\n",
    ">    - SEMIO_KAEM: personality typology - combative attitude\n",
    ">    - SEMIO_DOM: personality typology - dominant minded\n",
    ">    - SEMIO_KRIT: personality typology -critical minded\n",
    ">    - SEMIO_ERL: personality typology - event oriented"
   ]
  },
  {
   "cell_type": "markdown",
   "metadata": {},
   "source": [
    "## Step 3: Clustering\n",
    "\n",
    "### Step 3.1: Apply Clustering to General Population\n",
    "\n"
   ]
  },
  {
   "cell_type": "code",
   "execution_count": 225,
   "metadata": {},
   "outputs": [],
   "source": [
    "# Over a number of different cluster counts...\n",
    "scores = []\n",
    "clusters = list(range(1,21))\n",
    "\n",
    "for k in clusters:\n",
    "    \n",
    "    # run k-means clustering on the data and...    \n",
    "    kmeans = KMeans(n_clusters=k)\n",
    "    # compute the average within-cluster distances.\n",
    "    model = kmeans.fit(azdias_pca)\n",
    "    \n",
    "    score = np.abs(model.score(azdias_pca))\n",
    "    scores.append(score)\n",
    "    "
   ]
  },
  {
   "cell_type": "code",
   "execution_count": 226,
   "metadata": {},
   "outputs": [
    {
     "data": {
      "image/png": "[encoded data removed]",
      "text/plain": [
       "<Figure size 432x288 with 1 Axes>"
      ]
     },
     "metadata": {
      "needs_background": "light"
     },
     "output_type": "display_data"
    }
   ],
   "source": [
    "# Investigate the change in within-cluster distance across number of clusters.\n",
    "# HINT: Use matplotlib's plot function to visualize this relationship.\n",
    "\n",
    "plt.plot(clusters, scores, linestyle='--', marker='o', color='b');"
   ]
  },
  {
   "cell_type": "code",
   "execution_count": 228,
   "metadata": {},
   "outputs": [],
   "source": [
    "# Re-fit the k-means model with the selected number of clusters and obtain\n",
    "# cluster predictions for the general population demographics data.\n",
    "\n",
    "kmeans = KMeans(n_clusters=13)\n",
    "azdias_model = kmeans.fit(azdias_pca)\n",
    "azdias_clusters = azdias_model.predict(azdias_pca)"
   ]
  },
  {
   "cell_type": "markdown",
   "metadata": {},
   "source": [
    "### Discussion 3.1: Apply Clustering to General Population\n",
    "\n",
    "Looking at the graph that I ran for different clusters up to 20 clusters it appears to level off around 13 clusters. While there is some continuous drop off for each of the additional clusters there doesn't seem to be enough additional drop off to justify using more clusters. "
   ]
  },
  {
   "cell_type": "markdown",
   "metadata": {},
   "source": [
    "### Step 3.2: Apply All Steps to the Customer Data\n",
    "\n"
   ]
  },
  {
   "cell_type": "code",
   "execution_count": 229,
   "metadata": {},
   "outputs": [],
   "source": [
    "# Load in the customer demographics data.\n",
    "customers = pd.read_csv('Udacity_CUSTOMERS_Subset.csv', sep=';')"
   ]
  },
  {
   "cell_type": "code",
   "execution_count": 230,
   "metadata": {},
   "outputs": [
    {
     "data": {
      "text/html": [
       "<div>\n",
       "<style scoped>\n",
       "    .dataframe tbody tr th:only-of-type {\n",
       "        vertical-align: middle;\n",
       "    }\n",
       "\n",
       "    .dataframe tbody tr th {\n",
       "        vertical-align: top;\n",
       "    }\n",
       "\n",
       "    .dataframe thead th {\n",
       "        text-align: right;\n",
       "    }\n",
       "</style>\n",
       "<table border=\"1\" class=\"dataframe\">\n",
       "  <thead>\n",
       "    <tr style=\"text-align: right;\">\n",
       "      <th></th>\n",
       "      <th>AGER_TYP</th>\n",
       "      <th>ALTERSKATEGORIE_GROB</th>\n",
       "      <th>ANREDE_KZ</th>\n",
       "      <th>CJT_GESAMTTYP</th>\n",
       "      <th>FINANZ_MINIMALIST</th>\n",
       "      <th>FINANZ_SPARER</th>\n",
       "      <th>FINANZ_VORSORGER</th>\n",
       "      <th>FINANZ_ANLEGER</th>\n",
       "      <th>FINANZ_UNAUFFAELLIGER</th>\n",
       "      <th>FINANZ_HAUSBAUER</th>\n",
       "      <th>...</th>\n",
       "      <th>PLZ8_ANTG1</th>\n",
       "      <th>PLZ8_ANTG2</th>\n",
       "      <th>PLZ8_ANTG3</th>\n",
       "      <th>PLZ8_ANTG4</th>\n",
       "      <th>PLZ8_BAUMAX</th>\n",
       "      <th>PLZ8_HHZ</th>\n",
       "      <th>PLZ8_GBZ</th>\n",
       "      <th>ARBEIT</th>\n",
       "      <th>ORTSGR_KLS9</th>\n",
       "      <th>RELAT_AB</th>\n",
       "    </tr>\n",
       "  </thead>\n",
       "  <tbody>\n",
       "    <tr>\n",
       "      <th>0</th>\n",
       "      <td>2</td>\n",
       "      <td>4</td>\n",
       "      <td>1</td>\n",
       "      <td>5.0</td>\n",
       "      <td>5</td>\n",
       "      <td>1</td>\n",
       "      <td>5</td>\n",
       "      <td>1</td>\n",
       "      <td>2</td>\n",
       "      <td>2</td>\n",
       "      <td>...</td>\n",
       "      <td>3.0</td>\n",
       "      <td>3.0</td>\n",
       "      <td>1.0</td>\n",
       "      <td>0.0</td>\n",
       "      <td>1.0</td>\n",
       "      <td>5.0</td>\n",
       "      <td>5.0</td>\n",
       "      <td>1.0</td>\n",
       "      <td>2.0</td>\n",
       "      <td>1.0</td>\n",
       "    </tr>\n",
       "    <tr>\n",
       "      <th>1</th>\n",
       "      <td>-1</td>\n",
       "      <td>4</td>\n",
       "      <td>1</td>\n",
       "      <td>NaN</td>\n",
       "      <td>5</td>\n",
       "      <td>1</td>\n",
       "      <td>5</td>\n",
       "      <td>1</td>\n",
       "      <td>3</td>\n",
       "      <td>2</td>\n",
       "      <td>...</td>\n",
       "      <td>NaN</td>\n",
       "      <td>NaN</td>\n",
       "      <td>NaN</td>\n",
       "      <td>NaN</td>\n",
       "      <td>NaN</td>\n",
       "      <td>NaN</td>\n",
       "      <td>NaN</td>\n",
       "      <td>NaN</td>\n",
       "      <td>NaN</td>\n",
       "      <td>NaN</td>\n",
       "    </tr>\n",
       "    <tr>\n",
       "      <th>2</th>\n",
       "      <td>-1</td>\n",
       "      <td>4</td>\n",
       "      <td>2</td>\n",
       "      <td>2.0</td>\n",
       "      <td>5</td>\n",
       "      <td>1</td>\n",
       "      <td>5</td>\n",
       "      <td>1</td>\n",
       "      <td>4</td>\n",
       "      <td>4</td>\n",
       "      <td>...</td>\n",
       "      <td>2.0</td>\n",
       "      <td>3.0</td>\n",
       "      <td>3.0</td>\n",
       "      <td>1.0</td>\n",
       "      <td>3.0</td>\n",
       "      <td>3.0</td>\n",
       "      <td>2.0</td>\n",
       "      <td>3.0</td>\n",
       "      <td>5.0</td>\n",
       "      <td>3.0</td>\n",
       "    </tr>\n",
       "    <tr>\n",
       "      <th>3</th>\n",
       "      <td>1</td>\n",
       "      <td>4</td>\n",
       "      <td>1</td>\n",
       "      <td>2.0</td>\n",
       "      <td>5</td>\n",
       "      <td>1</td>\n",
       "      <td>5</td>\n",
       "      <td>2</td>\n",
       "      <td>1</td>\n",
       "      <td>2</td>\n",
       "      <td>...</td>\n",
       "      <td>3.0</td>\n",
       "      <td>2.0</td>\n",
       "      <td>1.0</td>\n",
       "      <td>0.0</td>\n",
       "      <td>1.0</td>\n",
       "      <td>3.0</td>\n",
       "      <td>4.0</td>\n",
       "      <td>1.0</td>\n",
       "      <td>3.0</td>\n",
       "      <td>1.0</td>\n",
       "    </tr>\n",
       "    <tr>\n",
       "      <th>4</th>\n",
       "      <td>-1</td>\n",
       "      <td>3</td>\n",
       "      <td>1</td>\n",
       "      <td>6.0</td>\n",
       "      <td>3</td>\n",
       "      <td>1</td>\n",
       "      <td>4</td>\n",
       "      <td>4</td>\n",
       "      <td>5</td>\n",
       "      <td>2</td>\n",
       "      <td>...</td>\n",
       "      <td>2.0</td>\n",
       "      <td>4.0</td>\n",
       "      <td>2.0</td>\n",
       "      <td>1.0</td>\n",
       "      <td>2.0</td>\n",
       "      <td>3.0</td>\n",
       "      <td>3.0</td>\n",
       "      <td>3.0</td>\n",
       "      <td>5.0</td>\n",
       "      <td>1.0</td>\n",
       "    </tr>\n",
       "  </tbody>\n",
       "</table>\n",
       "<p>5 rows × 85 columns</p>\n",
       "</div>"
      ],
      "text/plain": [
       "   AGER_TYP  ALTERSKATEGORIE_GROB  ANREDE_KZ  CJT_GESAMTTYP  \\\n",
       "0         2                     4          1            5.0   \n",
       "1        -1                     4          1            NaN   \n",
       "2        -1                     4          2            2.0   \n",
       "3         1                     4          1            2.0   \n",
       "4        -1                     3          1            6.0   \n",
       "\n",
       "   FINANZ_MINIMALIST  FINANZ_SPARER  FINANZ_VORSORGER  FINANZ_ANLEGER  \\\n",
       "0                  5              1                 5               1   \n",
       "1                  5              1                 5               1   \n",
       "2                  5              1                 5               1   \n",
       "3                  5              1                 5               2   \n",
       "4                  3              1                 4               4   \n",
       "\n",
       "   FINANZ_UNAUFFAELLIGER  FINANZ_HAUSBAUER  ...  PLZ8_ANTG1  PLZ8_ANTG2  \\\n",
       "0                      2                 2  ...         3.0         3.0   \n",
       "1                      3                 2  ...         NaN         NaN   \n",
       "2                      4                 4  ...         2.0         3.0   \n",
       "3                      1                 2  ...         3.0         2.0   \n",
       "4                      5                 2  ...         2.0         4.0   \n",
       "\n",
       "   PLZ8_ANTG3  PLZ8_ANTG4  PLZ8_BAUMAX  PLZ8_HHZ  PLZ8_GBZ  ARBEIT  \\\n",
       "0         1.0         0.0          1.0       5.0       5.0     1.0   \n",
       "1         NaN         NaN          NaN       NaN       NaN     NaN   \n",
       "2         3.0         1.0          3.0       3.0       2.0     3.0   \n",
       "3         1.0         0.0          1.0       3.0       4.0     1.0   \n",
       "4         2.0         1.0          2.0       3.0       3.0     3.0   \n",
       "\n",
       "   ORTSGR_KLS9  RELAT_AB  \n",
       "0          2.0       1.0  \n",
       "1          NaN       NaN  \n",
       "2          5.0       3.0  \n",
       "3          3.0       1.0  \n",
       "4          5.0       1.0  \n",
       "\n",
       "[5 rows x 85 columns]"
      ]
     },
     "execution_count": 230,
     "metadata": {},
     "output_type": "execute_result"
    }
   ],
   "source": [
    "customers.head()"
   ]
  },
  {
   "cell_type": "code",
   "execution_count": 233,
   "metadata": {},
   "outputs": [],
   "source": [
    "customers_clean = clean_data(customers)"
   ]
  },
  {
   "cell_type": "code",
   "execution_count": 234,
   "metadata": {},
   "outputs": [
    {
     "data": {
      "text/plain": [
       "True"
      ]
     },
     "execution_count": 234,
     "metadata": {},
     "output_type": "execute_result"
    }
   ],
   "source": [
    "# check that cleaning function worked correctly to provide the right dimensions\n",
    "customers_clean.shape[1] == azdias_scaled.shape[1]"
   ]
  },
  {
   "cell_type": "code",
   "execution_count": 235,
   "metadata": {},
   "outputs": [],
   "source": [
    "# Apply preprocessing, feature transformation, and clustering from the general\n",
    "# demographics onto the customer data, obtaining cluster predictions for the\n",
    "# customer demographics data.\n",
    "\n",
    "customers_full = impute.transform(customers_clean)"
   ]
  },
  {
   "cell_type": "code",
   "execution_count": 236,
   "metadata": {},
   "outputs": [],
   "source": [
    "customers_scaled = pd.DataFrame(scale.transform(customers_full), columns=customers_clean.columns)"
   ]
  },
  {
   "cell_type": "code",
   "execution_count": 237,
   "metadata": {},
   "outputs": [],
   "source": [
    "customers_pca = pca_20.transform(customers_scaled)"
   ]
  },
  {
   "cell_type": "code",
   "execution_count": 238,
   "metadata": {},
   "outputs": [],
   "source": [
    "customer_clusters = azdias_model.predict(customers_pca)"
   ]
  },
  {
   "cell_type": "markdown",
   "metadata": {},
   "source": [
    "### Step 3.3: Compare Customer Data to Demographics Data\n",
    "\n"
   ]
  },
  {
   "cell_type": "markdown",
   "metadata": {},
   "source": [
    "**I'll create a quick function to find the proportions from each of the two populations, customer and general. Once I have that I can create a plot to see which of the clusters are overrepresented or underrepresented and how those particular clusters are reflected by who is a part of them.**"
   ]
  },
  {
   "cell_type": "code",
   "execution_count": 239,
   "metadata": {},
   "outputs": [],
   "source": [
    "# Compare the proportion of data in each cluster for the customer data to the\n",
    "# proportion of data in each cluster for the general population.\n",
    "\n",
    "def cluster_proportions(predictions):\n",
    "    \n",
    "    \"\"\"\n",
    "    Returns the proportions of each of the clusters based on the Kmeans predictions. \n",
    "    \n",
    "    Input - predictions: kmeans clustering predictions.\n",
    "    Output - proportions: proportion of overall cluster sizes. \n",
    "    \n",
    "    \"\"\"\n",
    "    \n",
    "    df = pd.Series(predictions).value_counts()\n",
    "    proportions = df / len(predictions)\n",
    "    \n",
    "    return proportions"
   ]
  },
  {
   "cell_type": "code",
   "execution_count": 240,
   "metadata": {},
   "outputs": [],
   "source": [
    "# create the proportions for each population\n",
    "\n",
    "population_proportions = cluster_proportions(azdias_clusters)\n",
    "customer_proportions = cluster_proportions(customer_clusters)"
   ]
  },
  {
   "cell_type": "code",
   "execution_count": 261,
   "metadata": {},
   "outputs": [
    {
     "data": {
      "image/png": "[encoded data removed]",
      "text/plain": [
       "<Figure size 432x288 with 1 Axes>"
      ]
     },
     "metadata": {
      "needs_background": "light"
     },
     "output_type": "display_data"
    }
   ],
   "source": [
    "# see the plot of each proportion\n",
    "ax = plt.subplot(111)\n",
    "\n",
    "width=.35\n",
    "ind = population_proportions.keys()\n",
    "\n",
    "ax.bar(ind, height=population_proportions, width=width, color='orange')\n",
    "ax.bar(ind + width, height=customer_proportions, width=width, color='blue')\n",
    "ax.set_xticks(population_proportions.keys())\n",
    "ax.legend(['Population', 'Customers']);"
   ]
  },
  {
   "cell_type": "markdown",
   "metadata": {},
   "source": [
    "**In the above graph I can see that clusters one, three, and twelve are overrepresented in the customer data opposed to the general population. Where clusters zero, two, four, five, nine, ten, and eleven. In order to see what type of people make up each of the clusters I'll create a function so that I can roll back the PCA and Scaling on the dataframe so that I can see how each population is represented in the actual data.**"
   ]
  },
  {
   "cell_type": "code",
   "execution_count": 260,
   "metadata": {},
   "outputs": [],
   "source": [
    "\n",
    "def reverse_discovery(df, cluster):\n",
    "    \"\"\"\n",
    "    Reverts the scaled and PCA components to their original means in order to see what type of customers are represented in\n",
    "    that particular cluster.\n",
    "    \n",
    "    Input - df - dataframe: which dataframe you want to revert\n",
    "    Input - cluster - int: cluster you want to analyze\n",
    "    \n",
    "    Output - inverse_df mean - dataframe: means of all columns that have been reverted from StandardScaler and PCA\n",
    "    \n",
    "    \"\"\"\n",
    "    \n",
    "    pca_inverse = pca_20.inverse_transform(df[np.where(customer_clusters == cluster)])\n",
    "    scale_inverse = scale.inverse_transform(pca_inverse)\n",
    "    inverse_df = pd.DataFrame(scale_inverse, columns=customers_scaled.columns)\n",
    "    \n",
    "    return inverse_df.mean()"
   ]
  },
  {
   "cell_type": "code",
   "execution_count": 262,
   "metadata": {},
   "outputs": [],
   "source": [
    "# cluster one scaled back and analyzed - overrepresented\n",
    "cluster_one = reverse_discovery(customers_pca, 1)"
   ]
  },
  {
   "cell_type": "code",
   "execution_count": 263,
   "metadata": {
    "scrolled": true
   },
   "outputs": [
    {
     "data": {
      "text/plain": [
       "ALTERSKATEGORIE_GROB    3.825906\n",
       "ANREDE_KZ               1.932920\n",
       "FINANZ_MINIMALIST       2.664394\n",
       "FINANZ_SPARER           1.500901\n",
       "FINANZ_VORSORGER        4.665495\n",
       "                          ...   \n",
       "WEALTH_1.0              0.023920\n",
       "WEALTH_2.0              0.078175\n",
       "WEALTH_3.0              0.038977\n",
       "WEALTH_4.0              0.406987\n",
       "WEALTH_5.0              0.449679\n",
       "Length: 124, dtype: float64"
      ]
     },
     "execution_count": 263,
     "metadata": {},
     "output_type": "execute_result"
    }
   ],
   "source": [
    "cluster_one"
   ]
  },
  {
   "cell_type": "code",
   "execution_count": 275,
   "metadata": {},
   "outputs": [
    {
     "data": {
      "text/plain": [
       "CAMEO_DEUG_2015_1    0.027281\n",
       "CAMEO_DEUG_2015_2   -0.003361\n",
       "CAMEO_DEUG_2015_3    0.032240\n",
       "CAMEO_DEUG_2015_4    0.045935\n",
       "CAMEO_DEUG_2015_5    0.019856\n",
       "CAMEO_DEUG_2015_6    0.224073\n",
       "CAMEO_DEUG_2015_7    0.162649\n",
       "CAMEO_DEUG_2015_8    0.282578\n",
       "CAMEO_DEUG_2015_9    0.206488\n",
       "dtype: float64"
      ]
     },
     "execution_count": 275,
     "metadata": {},
     "output_type": "execute_result"
    }
   ],
   "source": [
    "# wealth scores\n",
    "cluster_one['CAMEO_DEUG_2015_1':'CAMEO_DEUG_2015_9']"
   ]
  },
  {
   "cell_type": "code",
   "execution_count": 276,
   "metadata": {},
   "outputs": [
    {
     "data": {
      "text/plain": [
       "5.321918719154379"
      ]
     },
     "execution_count": 276,
     "metadata": {},
     "output_type": "execute_result"
    }
   ],
   "source": [
    "# income score\n",
    "cluster_one['HH_EINKOMMEN_SCORE']"
   ]
  },
  {
   "cell_type": "code",
   "execution_count": 277,
   "metadata": {},
   "outputs": [
    {
     "data": {
      "text/plain": [
       "1.4562396127691577"
      ]
     },
     "execution_count": 277,
     "metadata": {},
     "output_type": "execute_result"
    }
   ],
   "source": [
    "# household size\n",
    "cluster_one['ANZ_PERSONEN']"
   ]
  },
  {
   "cell_type": "code",
   "execution_count": 264,
   "metadata": {},
   "outputs": [],
   "source": [
    "# cluster three scaled back and analyzed - overrepresented\n",
    "cluster_three = reverse_discovery(customers_pca, 3)"
   ]
  },
  {
   "cell_type": "code",
   "execution_count": 265,
   "metadata": {},
   "outputs": [
    {
     "data": {
      "text/plain": [
       "ALTERSKATEGORIE_GROB    1.934091\n",
       "ANREDE_KZ               1.989049\n",
       "FINANZ_MINIMALIST       1.475701\n",
       "FINANZ_SPARER           3.858450\n",
       "FINANZ_VORSORGER        2.504233\n",
       "                          ...   \n",
       "WEALTH_1.0             -0.000364\n",
       "WEALTH_2.0              0.018748\n",
       "WEALTH_3.0              0.052876\n",
       "WEALTH_4.0              0.376166\n",
       "WEALTH_5.0              0.549971\n",
       "Length: 124, dtype: float64"
      ]
     },
     "execution_count": 265,
     "metadata": {},
     "output_type": "execute_result"
    }
   ],
   "source": [
    "cluster_three"
   ]
  },
  {
   "cell_type": "code",
   "execution_count": 278,
   "metadata": {},
   "outputs": [
    {
     "data": {
      "text/plain": [
       "CAMEO_DEUG_2015_1    0.011797\n",
       "CAMEO_DEUG_2015_2   -0.012161\n",
       "CAMEO_DEUG_2015_3   -0.000684\n",
       "CAMEO_DEUG_2015_4    0.019432\n",
       "CAMEO_DEUG_2015_5    0.037147\n",
       "CAMEO_DEUG_2015_6    0.116342\n",
       "CAMEO_DEUG_2015_7    0.207185\n",
       "CAMEO_DEUG_2015_8    0.351110\n",
       "CAMEO_DEUG_2015_9    0.267229\n",
       "dtype: float64"
      ]
     },
     "execution_count": 278,
     "metadata": {},
     "output_type": "execute_result"
    }
   ],
   "source": [
    "# wealth scores\n",
    "cluster_three['CAMEO_DEUG_2015_1':'CAMEO_DEUG_2015_9']"
   ]
  },
  {
   "cell_type": "code",
   "execution_count": 279,
   "metadata": {},
   "outputs": [
    {
     "data": {
      "text/plain": [
       "5.4991354713209235"
      ]
     },
     "execution_count": 279,
     "metadata": {},
     "output_type": "execute_result"
    }
   ],
   "source": [
    "# income score\n",
    "cluster_three['HH_EINKOMMEN_SCORE']"
   ]
  },
  {
   "cell_type": "code",
   "execution_count": 280,
   "metadata": {},
   "outputs": [
    {
     "data": {
      "text/plain": [
       "1.6600226142003394"
      ]
     },
     "execution_count": 280,
     "metadata": {},
     "output_type": "execute_result"
    }
   ],
   "source": [
    "# household size\n",
    "cluster_three['ANZ_PERSONEN']"
   ]
  },
  {
   "cell_type": "code",
   "execution_count": 266,
   "metadata": {},
   "outputs": [],
   "source": [
    "# cluster zero scaled back and analyzed - underrepresented\n",
    "cluster_zero = reverse_discovery(customers_pca, 0)"
   ]
  },
  {
   "cell_type": "code",
   "execution_count": 281,
   "metadata": {},
   "outputs": [
    {
     "data": {
      "text/plain": [
       "ALTERSKATEGORIE_GROB    3.668468\n",
       "ANREDE_KZ               1.927869\n",
       "FINANZ_MINIMALIST       4.292948\n",
       "FINANZ_SPARER           1.353914\n",
       "FINANZ_VORSORGER        4.478586\n",
       "                          ...   \n",
       "WEALTH_1.0              0.506647\n",
       "WEALTH_2.0              0.258937\n",
       "WEALTH_3.0              0.025966\n",
       "WEALTH_4.0              0.146845\n",
       "WEALTH_5.0              0.057618\n",
       "Length: 124, dtype: float64"
      ]
     },
     "execution_count": 281,
     "metadata": {},
     "output_type": "execute_result"
    }
   ],
   "source": [
    "cluster_zero"
   ]
  },
  {
   "cell_type": "code",
   "execution_count": 272,
   "metadata": {},
   "outputs": [
    {
     "data": {
      "text/plain": [
       "CAMEO_DEUG_2015_1    0.213778\n",
       "CAMEO_DEUG_2015_2    0.292869\n",
       "CAMEO_DEUG_2015_3    0.118786\n",
       "CAMEO_DEUG_2015_4    0.140151\n",
       "CAMEO_DEUG_2015_5    0.020319\n",
       "CAMEO_DEUG_2015_6    0.091866\n",
       "CAMEO_DEUG_2015_7    0.046212\n",
       "CAMEO_DEUG_2015_8    0.046565\n",
       "CAMEO_DEUG_2015_9    0.025468\n",
       "dtype: float64"
      ]
     },
     "execution_count": 272,
     "metadata": {},
     "output_type": "execute_result"
    }
   ],
   "source": [
    "cluster_zero['CAMEO_DEUG_2015_1':'CAMEO_DEUG_2015_9']"
   ]
  },
  {
   "cell_type": "code",
   "execution_count": 273,
   "metadata": {
    "scrolled": true
   },
   "outputs": [
    {
     "data": {
      "text/plain": [
       "2.3315142107015516"
      ]
     },
     "execution_count": 273,
     "metadata": {},
     "output_type": "execute_result"
    }
   ],
   "source": [
    "cluster_zero['HH_EINKOMMEN_SCORE']"
   ]
  },
  {
   "cell_type": "code",
   "execution_count": 274,
   "metadata": {},
   "outputs": [
    {
     "data": {
      "text/plain": [
       "2.4034782982981806"
      ]
     },
     "execution_count": 274,
     "metadata": {},
     "output_type": "execute_result"
    }
   ],
   "source": [
    "cluster_zero['ANZ_PERSONEN']"
   ]
  },
  {
   "cell_type": "code",
   "execution_count": 268,
   "metadata": {},
   "outputs": [],
   "source": [
    "# cluster eleven scaled back and analyzed - underrepresented\n",
    "cluster_eleven = reverse_discovery(customers_pca, 11)"
   ]
  },
  {
   "cell_type": "code",
   "execution_count": 269,
   "metadata": {
    "scrolled": true
   },
   "outputs": [
    {
     "data": {
      "text/plain": [
       "ALTERSKATEGORIE_GROB    2.900535\n",
       "ANREDE_KZ               1.632268\n",
       "FINANZ_MINIMALIST       4.097918\n",
       "FINANZ_SPARER           2.563133\n",
       "FINANZ_VORSORGER        3.287448\n",
       "                          ...   \n",
       "WEALTH_1.0              0.194747\n",
       "WEALTH_2.0              0.619968\n",
       "WEALTH_3.0              0.067399\n",
       "WEALTH_4.0              0.108617\n",
       "WEALTH_5.0              0.002921\n",
       "Length: 124, dtype: float64"
      ]
     },
     "execution_count": 269,
     "metadata": {},
     "output_type": "execute_result"
    }
   ],
   "source": [
    "cluster_eleven"
   ]
  },
  {
   "cell_type": "code",
   "execution_count": 282,
   "metadata": {},
   "outputs": [
    {
     "data": {
      "text/plain": [
       "CAMEO_DEUG_2015_1    0.026292\n",
       "CAMEO_DEUG_2015_2    0.168456\n",
       "CAMEO_DEUG_2015_3    0.269257\n",
       "CAMEO_DEUG_2015_4    0.350711\n",
       "CAMEO_DEUG_2015_5    0.062268\n",
       "CAMEO_DEUG_2015_6    0.068268\n",
       "CAMEO_DEUG_2015_7    0.055641\n",
       "CAMEO_DEUG_2015_8   -0.015547\n",
       "CAMEO_DEUG_2015_9    0.008308\n",
       "dtype: float64"
      ]
     },
     "execution_count": 282,
     "metadata": {},
     "output_type": "execute_result"
    }
   ],
   "source": [
    "# wealth scores\n",
    "cluster_eleven['CAMEO_DEUG_2015_1':'CAMEO_DEUG_2015_9']"
   ]
  },
  {
   "cell_type": "code",
   "execution_count": 283,
   "metadata": {},
   "outputs": [
    {
     "data": {
      "text/plain": [
       "3.2076486307611862"
      ]
     },
     "execution_count": 283,
     "metadata": {},
     "output_type": "execute_result"
    }
   ],
   "source": [
    "# income score\n",
    "cluster_eleven['HH_EINKOMMEN_SCORE']"
   ]
  },
  {
   "cell_type": "code",
   "execution_count": 284,
   "metadata": {},
   "outputs": [
    {
     "data": {
      "text/plain": [
       "2.9762867187323323"
      ]
     },
     "execution_count": 284,
     "metadata": {},
     "output_type": "execute_result"
    }
   ],
   "source": [
    "# household size\n",
    "cluster_eleven['ANZ_PERSONEN']"
   ]
  },
  {
   "cell_type": "markdown",
   "metadata": {},
   "source": [
    "### Discussion 3.3: Compare Customer Data to Demographics Data\n",
    "\n",
    "### Overrepresented in Customer Data Compared to General Population\n",
    ">Looking at the above graph there are several clusters that appear to be overrepresented in the customer data opposed to the general population data, clusters one, three, and twelve. Clusters twelve is just slightly over the general population so I'll focus on one and three as those clusters are considerably higher than the general population data. \n",
    "\n",
    "> Starting with cluster one it appears that the general makeup of this cluster are people aged 46 to 60 (ALTERSKATEGORIE_GROB mean of around 3.8), who are female (ANREDE_KZ mean around 2), who tend to be low middle class to working class (CAMEO_DEUG_2015 6, 7, 8, and 9 highest means and HH_EINKOMMEN_SCORE of 5.3 indicating lower income), with a household size of between one and two (ANZ_PERSONEN mean of 1.4).\n",
    "\n",
    ">Looking into cluster three it appears that some of the general makeup is people aged 30 to 35 (ALTERSKATEGORIE_GROB just below 2, so possibly skewing younger), who are female (ANREDE_KZ mean around 2), who tend to be of working class (CAMEO_DEUG_2015 7, 8, and 9 with the highest means and HH_EINKOMMEN_SCORE of 5.5 between lower income and very low income), with a smaller household between one and two (ANZ_PERSONEN mean of 1.6).\n",
    "\n",
    "### Underrepresented in Customer Data Compared to General Population\n",
    "\n",
    ">Looking at the above graph there are several clusters that appear to be underrepresented in the cusomter data opposed to the general population, clusters zero, two, four, five, nine, ten, and eleven. I'll be focusing on clusters zero and eleven as those appear to have the smallest proportion of customers in those clusters. \n",
    "\n",
    ">Starting with cluster zero it appears the general makeup of this cluster are people aged 46 to 60 (ALTERSKATEGORIE_GROB mean of 3.6, possibly skewing older), that are female (ANREDE_KZ mean of 1.9), who tend to be upper middle class to upper class (CAMEO_DEUG_2015 1, 2, 3 highest means with a HH_EINKOMMEN_SCORE score of 2.3 indicating high income), with a household size between two and three (ANZ_PERSONEN mean of 2.4). \n",
    "\n",
    ">Looking into cluster ten appears that the general makeup of this cluster are people aged 46 to 60 (ALTERSKATEGORIE_GROB mean of 3.4), that are possibly a mix of male and female (ANREDE_KZ mean of 1.5), who tend to be established middle class to upper class (CAMEO_DEUG_2015 2, 3, 4 are the highest means with a HH_EINKOMMEN_SCORE of 3.2 indicating high income), with a household around three people (ANZ_PERSONEN mean of 2.9)."
   ]
  },
  {
   "cell_type": "code",
   "execution_count": null,
   "metadata": {},
   "outputs": [],
   "source": []
  }
 ],
 "metadata": {
  "kernelspec": {
   "display_name": "Python 3 (ipykernel)",
   "language": "python",
   "name": "python3"
  },
  "language_info": {
   "codemirror_mode": {
    "name": "ipython",
    "version": 3
   },
   "file_extension": ".py",
   "mimetype": "text/x-python",
   "name": "python",
   "nbconvert_exporter": "python",
   "pygments_lexer": "ipython3",
   "version": "3.8.5"
  }
 },
 "nbformat": 4,
 "nbformat_minor": 2
}
